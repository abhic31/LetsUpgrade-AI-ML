{
 "cells": [
  {
   "cell_type": "markdown",
   "metadata": {},
   "source": [
    "# 10 hypothesis on given probelm statement"
   ]
  },
  {
   "cell_type": "code",
   "execution_count": null,
   "metadata": {},
   "outputs": [],
   "source": []
  },
  {
   "cell_type": "code",
   "execution_count": null,
   "metadata": {},
   "outputs": [],
   "source": []
  },
  {
   "cell_type": "markdown",
   "metadata": {},
   "source": [
    "# 1. Mean age of employee with an attrition is 33\n",
    "\n",
    "Hypothesis: for a sample of 70 employees the mean age is found to be 32\n",
    "\n",
    "H0 = 32\n",
    "H1 ≠ 32"
   ]
  },
  {
   "cell_type": "markdown",
   "metadata": {},
   "source": [
    "# 2. Average distance of employees from home to work is 15 km\n",
    "\n",
    "Hypothesis: for a sample of 140 employees the average distance from work to home  is found to be 15 km\n",
    "\n",
    "H0 = 15\n",
    "H1 ≠ 15"
   ]
  },
  {
   "cell_type": "markdown",
   "metadata": {},
   "source": [
    "# 3. 1% of employee leave the company due to health probelms \n",
    "Hypothesis: for a sample of 100 employees the average number of people who got health probelm is 1\n",
    " H0 = 1\n",
    "H1 ≠ 1"
   ]
  },
  {
   "cell_type": "markdown",
   "metadata": {},
   "source": [
    "# 4. Mean age of employee with retirement is  more than 60 years old\n",
    "\n",
    "Hypothesis: for a sample of 40 employees the mean age is found to be more than 60 years old\n",
    "H0 ≥ 32\n",
    "H1 ≠ 32"
   ]
  },
  {
   "cell_type": "markdown",
   "metadata": {},
   "source": [
    "# 5. Avg employee salary is below 40,000\n",
    "\n",
    "\n",
    "Hypothesis: for a sample of 400 employees the mean salary is found to be below 40,000\n",
    "\n",
    "H0 <= 40000\n",
    "H1 ≠ 40000"
   ]
  },
  {
   "cell_type": "markdown",
   "metadata": {},
   "source": [
    "# 6. 20% of employee doesn't get proper traning\n",
    "\n",
    "Hypothesis: for a sample of 500 employee,the employees who didn't get proper traning is 100\n",
    "\n",
    "H0 = 10\n",
    "H1 ≠ 10\n"
   ]
  },
  {
   "cell_type": "markdown",
   "metadata": {},
   "source": [
    "# 7. 5% employee moved to another city/country\n",
    "\n",
    "Hypothesis: for a sample of 60 employees the employees who shifted to another cities are 3\n",
    "\n",
    "H0 = 3\n",
    "H1 ≠ 3\n"
   ]
  },
  {
   "cell_type": "markdown",
   "metadata": {},
   "source": [
    "# 8 Average of 4 years for  next promotion \n",
    "Hypothesis: for a sample of 55 employees the average  years of promotion of employees is found to be below 4 years\n",
    "H0 = 4\n",
    "H1 ≠ 4"
   ]
  },
  {
   "cell_type": "markdown",
   "metadata": {},
   "source": [
    "# 9.  Average Total working hours of employees is 8 hours\n",
    "Hypothesis: for a sample of 70 employees the average  total working hours is 8 \n",
    "\n",
    "H0 = 8\n",
    "H1 ≠ 8"
   ]
  },
  {
   "cell_type": "markdown",
   "metadata": {},
   "source": [
    "# 10. Mean salary hike of employees is 5%\n",
    "Hypothesis: for a sample of 1000 employees the mean salary hike is found to be below 50\n",
    "\n",
    "H0 ≤ 15\n",
    "H1 ≠ 15\n"
   ]
  },
  {
   "cell_type": "code",
   "execution_count": null,
   "metadata": {},
   "outputs": [],
   "source": []
  },
  {
   "cell_type": "code",
   "execution_count": null,
   "metadata": {},
   "outputs": [],
   "source": []
  }
 ],
 "metadata": {
  "kernelspec": {
   "display_name": "Python 3",
   "language": "python",
   "name": "python3"
  },
  "language_info": {
   "codemirror_mode": {
    "name": "ipython",
    "version": 3
   },
   "file_extension": ".py",
   "mimetype": "text/x-python",
   "name": "python",
   "nbconvert_exporter": "python",
   "pygments_lexer": "ipython3",
   "version": "3.7.6"
  }
 },
 "nbformat": 4,
 "nbformat_minor": 4
}
