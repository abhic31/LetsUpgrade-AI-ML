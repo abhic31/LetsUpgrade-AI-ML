{
 "cells": [
  {
   "cell_type": "markdown",
   "metadata": {},
   "source": [
    "# Write a Python program to find the first 20 non-even prime natural numbers. \n",
    "        "
   ]
  },
  {
   "cell_type": "code",
   "execution_count": 11,
   "metadata": {},
   "outputs": [
    {
     "name": "stdout",
     "output_type": "stream",
     "text": [
      "Enter the number20\n",
      "2\n",
      "3\n",
      "5\n",
      "7\n",
      "9\n",
      "11\n",
      "13\n",
      "15\n",
      "17\n",
      "19\n"
     ]
    }
   ],
   "source": [
    "N = int(input(\"Enter the number\")) # take the number \n",
    "for num in range(0,N+1): # make a loop till N+1 \n",
    "    if num>1:    # if num is greater than 1,as 1 is considered as unique number \n",
    "        for i in range(2,num): # make another loop \n",
    "            if (num%2 == 0): # if it gets divisible by 2 it is even\n",
    "                break # break if it is \n",
    "        else: # orelse print the number\n",
    "            print(num)\n",
    "    "
   ]
  },
  {
   "cell_type": "code",
   "execution_count": null,
   "metadata": {},
   "outputs": [],
   "source": []
  },
  {
   "cell_type": "markdown",
   "metadata": {},
   "source": [
    "# Write a Python program to implement 15 functions of string"
   ]
  },
  {
   "cell_type": "code",
   "execution_count": 6,
   "metadata": {},
   "outputs": [
    {
     "name": "stdout",
     "output_type": "stream",
     "text": [
      " hi i love data science\n",
      "False\n",
      "  hi i love Data science \n",
      "1\n",
      "<built-in method encode of str object at 0x000001EE85327C60>\n",
      "False\n",
      "6\n",
      "False\n",
      "False\n",
      "False\n",
      "False\n",
      " hi i love data science\n",
      "(' hi i ', 'love', ' Data science')\n",
      " hi i like Data science\n"
     ]
    }
   ],
   "source": [
    "A = \" hi i love Data science\"\n",
    "\n",
    "x = A.capitalize()\n",
    "y = A.casefold()\n",
    "z = A.center(25)\n",
    "q = A.count(\"love\")\n",
    "w = A.encode\n",
    "e = A.endswith(\".\")\n",
    "r = A.find(\"love\")\n",
    "t = A.index(\"love\")\n",
    "t = A.isalnum()\n",
    "y = A.islower()\n",
    "u = A.istitle()\n",
    "i = A.isupper()\n",
    "o = A.lower()\n",
    "p = A.partition(\"love\")\n",
    "s = A.replace(\"love\" , \"like\")\n",
    "\n",
    "print(x)\n",
    "print(y)\n",
    "print(z)\n",
    "print(q)\n",
    "print(w)\n",
    "print(e)\n",
    "print(r)\n",
    "print(t)\n",
    "print(y)\n",
    "print(u)\n",
    "print(i)\n",
    "print(o)\n",
    "print(p)\n",
    "print(s)\n"
   ]
  },
  {
   "cell_type": "code",
   "execution_count": null,
   "metadata": {},
   "outputs": [],
   "source": []
  },
  {
   "cell_type": "markdown",
   "metadata": {},
   "source": [
    "# Write a Python program to check if the given string is a Palindrome or Anagram or None of them. Display the message accordingly to the use"
   ]
  },
  {
   "cell_type": "code",
   "execution_count": null,
   "metadata": {},
   "outputs": [],
   "source": [
    "\n",
    "\n",
    "\n"
   ]
  },
  {
   "cell_type": "code",
   "execution_count": null,
   "metadata": {},
   "outputs": [],
   "source": []
  },
  {
   "cell_type": "code",
   "execution_count": 20,
   "metadata": {},
   "outputs": [
    {
     "name": "stdout",
     "output_type": "stream",
     "text": [
      "Select 1 To Check If String Is Palindrone Or Not /n Select 2 To Check If String Is Anagram Or Not1\n",
      "Enter your Stringerty\n",
      "['e', 'r', 't', 'y']\n",
      "Given String is not palindrone\n",
      "None Of them!\n"
     ]
    }
   ],
   "source": [
    "def palin():\n",
    "    a=list(input(\"Enter your String\"))\n",
    "    print(a)\n",
    "    for i in range(0,len(a)):\n",
    "        if a[i]==a[len(a)-(i+1)]:\n",
    "            palindrone=True\n",
    "        else:\n",
    "            palindrone=False\n",
    "            break\n",
    "    if palindrone == True:\n",
    "        print(\"Given String is Palindrone\")\n",
    "    else:\n",
    "        print(\"Given String is not palindrone\")\n",
    "    \n",
    "def anagram():\n",
    "    first_string=list(input(\"Enter your First string\"))\n",
    "    print(first_string)\n",
    "    second_string=list(input(\"Enter Your Second String\"))\n",
    "    print(second_string)\n",
    "    for i in second_string:\n",
    "        if i in first_string:\n",
    "            Anagram_condition=True\n",
    "        else:\n",
    "            Anagram_condition=False\n",
    "            break\n",
    "        \n",
    "    if Anagram_condition==True:\n",
    "        print(\"Given string is Anagram\")\n",
    "    else:\n",
    "        print(\"Given string is not an Anagram\")\n",
    "        \n",
    "Choice=int(input(\"Select 1 To Check If String Is Palindrone Or Not /n Select 2 To Check If String Is Anagram Or Not\"))\n",
    "\n",
    "Anagram_condition=False\n",
    "palindrone=False\n",
    "\n",
    "if Choice==1:\n",
    "    palin()\n",
    "else:\n",
    "    anagram()\n",
    "    \n",
    "    \n",
    "if palindrone==True and Anagram_condition ==True:\n",
    "    print(\"Given String is palindrone & Anagram\")\n",
    "elif palindrone==True:\n",
    "    print(\"Given String is palidrone\")\n",
    "elif Anagram_condition==True:\n",
    "    print(\"Given String is Anagram\")\n",
    "else:\n",
    "    print(\"None Of them!\")"
   ]
  },
  {
   "cell_type": "markdown",
   "metadata": {},
   "source": [
    "# Write a Python's user defined function that removes all the additional characters from the string and converts it finally to lower case using built-in lower(). eg: If the string is \"Dr. Darshan Ingle @AI-ML Trainer\", then the output be \"drdarshaningle aimltrainer"
   ]
  },
  {
   "cell_type": "code",
   "execution_count": null,
   "metadata": {},
   "outputs": [],
   "source": [
    "A = input(\"Enter \")\n",
    "print(A.lower())"
   ]
  },
  {
   "cell_type": "code",
   "execution_count": null,
   "metadata": {},
   "outputs": [],
   "source": []
  },
  {
   "cell_type": "code",
   "execution_count": null,
   "metadata": {},
   "outputs": [],
   "source": []
  }
 ],
 "metadata": {
  "kernelspec": {
   "display_name": "Python 3",
   "language": "python",
   "name": "python3"
  },
  "language_info": {
   "codemirror_mode": {
    "name": "ipython",
    "version": 3
   },
   "file_extension": ".py",
   "mimetype": "text/x-python",
   "name": "python",
   "nbconvert_exporter": "python",
   "pygments_lexer": "ipython3",
   "version": "3.7.6"
  }
 },
 "nbformat": 4,
 "nbformat_minor": 4
}
