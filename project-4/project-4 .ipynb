{
 "cells": [
  {
   "cell_type": "raw",
   "metadata": {},
   "source": [
    "We will collect text data using Twitter API."
   ]
  },
  {
   "cell_type": "code",
   "execution_count": 49,
   "metadata": {},
   "outputs": [],
   "source": [
    "#pip install tweepy"
   ]
  },
  {
   "cell_type": "code",
   "execution_count": 50,
   "metadata": {},
   "outputs": [],
   "source": [
    "#pip install openpyxl"
   ]
  },
  {
   "cell_type": "code",
   "execution_count": 51,
   "metadata": {},
   "outputs": [],
   "source": [
    "import numpy as np\n",
    "import pandas as pd\n",
    "import tweepy\n",
    "import json\n",
    "from tweepy import OAuthHandler"
   ]
  },
  {
   "cell_type": "code",
   "execution_count": 52,
   "metadata": {},
   "outputs": [],
   "source": [
    "consumer_key = \"LzsCOl12ZZ79FObx7BV9a1R3a\"\n",
    "consumer_secret = \"gODxZ1kHJHDGgYfyP12AUN37UTlDd6yn3OsSV9Tl0iwu0K0cRY\"\n",
    "access_token = \"296102538-kYIK8SULCmRK4vgvYD2DhKbwvSXrgTdTkWh0Nvsp\"\n",
    "access_token_secret = \"Ib9obwgcE5tZk4S6tY5rAqI5iXOeJc9FGFg28qHoa4YpP\""
   ]
  },
  {
   "cell_type": "code",
   "execution_count": 53,
   "metadata": {},
   "outputs": [],
   "source": [
    "auth = tweepy.OAuthHandler( consumer_key , consumer_secret )\n",
    "auth.set_access_token( access_token , access_token_secret )\n",
    "api = tweepy.API(auth)"
   ]
  },
  {
   "cell_type": "code",
   "execution_count": 54,
   "metadata": {},
   "outputs": [],
   "source": [
    "query = \"RCB winning IPL\""
   ]
  },
  {
   "cell_type": "code",
   "execution_count": 55,
   "metadata": {},
   "outputs": [
    {
     "name": "stdout",
     "output_type": "stream",
     "text": [
      "Status(_api=<tweepy.api.API object at 0x00000245AB624160>, _json={'created_at': 'Fri Oct 30 07:30:31 +0000 2020', 'id': 1322078415248269312, 'id_str': '1322078415248269312', 'full_text': '@arshkhurana By this way RCB is also confident of winning IPL someday 😂😂', 'truncated': False, 'display_text_range': [13, 72], 'entities': {'hashtags': [], 'symbols': [], 'user_mentions': [{'screen_name': 'arshkhurana', 'name': 'Arsh Khurana', 'id': 142371082, 'id_str': '142371082', 'indices': [0, 12]}], 'urls': []}, 'metadata': {'iso_language_code': 'en', 'result_type': 'recent'}, 'source': '<a href=\"https://mobile.twitter.com\" rel=\"nofollow\">Twitter Web App</a>', 'in_reply_to_status_id': 1322075028964352000, 'in_reply_to_status_id_str': '1322075028964352000', 'in_reply_to_user_id': 142371082, 'in_reply_to_user_id_str': '142371082', 'in_reply_to_screen_name': 'arshkhurana', 'user': {'id': 1287039660816924672, 'id_str': '1287039660816924672', 'name': 'Pawan Ji Ka Fan', 'screen_name': 'PawanJiKaFan1', 'location': 'Dehradun', 'description': 'Inspire by @Pawankhera ji | Congressman | Software Engineer | followed by @Pawankhera, @SupriyaShrinate @rohanrgupta, @srinivasiyc, @srivatsayb, @NayakRagini', 'url': None, 'entities': {'description': {'urls': []}}, 'protected': False, 'followers_count': 1758, 'friends_count': 2055, 'listed_count': 4, 'created_at': 'Sat Jul 25 14:59:14 +0000 2020', 'favourites_count': 5304, 'utc_offset': None, 'time_zone': None, 'geo_enabled': False, 'verified': False, 'statuses_count': 6490, 'lang': None, 'contributors_enabled': False, 'is_translator': False, 'is_translation_enabled': False, 'profile_background_color': 'F5F8FA', 'profile_background_image_url': None, 'profile_background_image_url_https': None, 'profile_background_tile': False, 'profile_image_url': 'http://pbs.twimg.com/profile_images/1287042040027426816/V1kF_yJP_normal.jpg', 'profile_image_url_https': 'https://pbs.twimg.com/profile_images/1287042040027426816/V1kF_yJP_normal.jpg', 'profile_banner_url': 'https://pbs.twimg.com/profile_banners/1287039660816924672/1597331858', 'profile_link_color': '1DA1F2', 'profile_sidebar_border_color': 'C0DEED', 'profile_sidebar_fill_color': 'DDEEF6', 'profile_text_color': '333333', 'profile_use_background_image': True, 'has_extended_profile': True, 'default_profile': True, 'default_profile_image': False, 'following': False, 'follow_request_sent': False, 'notifications': False, 'translator_type': 'none'}, 'geo': None, 'coordinates': None, 'place': None, 'contributors': None, 'is_quote_status': False, 'retweet_count': 0, 'favorite_count': 2, 'favorited': False, 'retweeted': False, 'lang': 'en'}, created_at=datetime.datetime(2020, 10, 30, 7, 30, 31), id=1322078415248269312, id_str='1322078415248269312', full_text='@arshkhurana By this way RCB is also confident of winning IPL someday 😂😂', truncated=False, display_text_range=[13, 72], entities={'hashtags': [], 'symbols': [], 'user_mentions': [{'screen_name': 'arshkhurana', 'name': 'Arsh Khurana', 'id': 142371082, 'id_str': '142371082', 'indices': [0, 12]}], 'urls': []}, metadata={'iso_language_code': 'en', 'result_type': 'recent'}, source='Twitter Web App', source_url='https://mobile.twitter.com', in_reply_to_status_id=1322075028964352000, in_reply_to_status_id_str='1322075028964352000', in_reply_to_user_id=142371082, in_reply_to_user_id_str='142371082', in_reply_to_screen_name='arshkhurana', author=User(_api=<tweepy.api.API object at 0x00000245AB624160>, _json={'id': 1287039660816924672, 'id_str': '1287039660816924672', 'name': 'Pawan Ji Ka Fan', 'screen_name': 'PawanJiKaFan1', 'location': 'Dehradun', 'description': 'Inspire by @Pawankhera ji | Congressman | Software Engineer | followed by @Pawankhera, @SupriyaShrinate @rohanrgupta, @srinivasiyc, @srivatsayb, @NayakRagini', 'url': None, 'entities': {'description': {'urls': []}}, 'protected': False, 'followers_count': 1758, 'friends_count': 2055, 'listed_count': 4, 'created_at': 'Sat Jul 25 14:59:14 +0000 2020', 'favourites_count': 5304, 'utc_offset': None, 'time_zone': None, 'geo_enabled': False, 'verified': False, 'statuses_count': 6490, 'lang': None, 'contributors_enabled': False, 'is_translator': False, 'is_translation_enabled': False, 'profile_background_color': 'F5F8FA', 'profile_background_image_url': None, 'profile_background_image_url_https': None, 'profile_background_tile': False, 'profile_image_url': 'http://pbs.twimg.com/profile_images/1287042040027426816/V1kF_yJP_normal.jpg', 'profile_image_url_https': 'https://pbs.twimg.com/profile_images/1287042040027426816/V1kF_yJP_normal.jpg', 'profile_banner_url': 'https://pbs.twimg.com/profile_banners/1287039660816924672/1597331858', 'profile_link_color': '1DA1F2', 'profile_sidebar_border_color': 'C0DEED', 'profile_sidebar_fill_color': 'DDEEF6', 'profile_text_color': '333333', 'profile_use_background_image': True, 'has_extended_profile': True, 'default_profile': True, 'default_profile_image': False, 'following': False, 'follow_request_sent': False, 'notifications': False, 'translator_type': 'none'}, id=1287039660816924672, id_str='1287039660816924672', name='Pawan Ji Ka Fan', screen_name='PawanJiKaFan1', location='Dehradun', description='Inspire by @Pawankhera ji | Congressman | Software Engineer | followed by @Pawankhera, @SupriyaShrinate @rohanrgupta, @srinivasiyc, @srivatsayb, @NayakRagini', url=None, entities={'description': {'urls': []}}, protected=False, followers_count=1758, friends_count=2055, listed_count=4, created_at=datetime.datetime(2020, 7, 25, 14, 59, 14), favourites_count=5304, utc_offset=None, time_zone=None, geo_enabled=False, verified=False, statuses_count=6490, lang=None, contributors_enabled=False, is_translator=False, is_translation_enabled=False, profile_background_color='F5F8FA', profile_background_image_url=None, profile_background_image_url_https=None, profile_background_tile=False, profile_image_url='http://pbs.twimg.com/profile_images/1287042040027426816/V1kF_yJP_normal.jpg', profile_image_url_https='https://pbs.twimg.com/profile_images/1287042040027426816/V1kF_yJP_normal.jpg', profile_banner_url='https://pbs.twimg.com/profile_banners/1287039660816924672/1597331858', profile_link_color='1DA1F2', profile_sidebar_border_color='C0DEED', profile_sidebar_fill_color='DDEEF6', profile_text_color='333333', profile_use_background_image=True, has_extended_profile=True, default_profile=True, default_profile_image=False, following=False, follow_request_sent=False, notifications=False, translator_type='none'), user=User(_api=<tweepy.api.API object at 0x00000245AB624160>, _json={'id': 1287039660816924672, 'id_str': '1287039660816924672', 'name': 'Pawan Ji Ka Fan', 'screen_name': 'PawanJiKaFan1', 'location': 'Dehradun', 'description': 'Inspire by @Pawankhera ji | Congressman | Software Engineer | followed by @Pawankhera, @SupriyaShrinate @rohanrgupta, @srinivasiyc, @srivatsayb, @NayakRagini', 'url': None, 'entities': {'description': {'urls': []}}, 'protected': False, 'followers_count': 1758, 'friends_count': 2055, 'listed_count': 4, 'created_at': 'Sat Jul 25 14:59:14 +0000 2020', 'favourites_count': 5304, 'utc_offset': None, 'time_zone': None, 'geo_enabled': False, 'verified': False, 'statuses_count': 6490, 'lang': None, 'contributors_enabled': False, 'is_translator': False, 'is_translation_enabled': False, 'profile_background_color': 'F5F8FA', 'profile_background_image_url': None, 'profile_background_image_url_https': None, 'profile_background_tile': False, 'profile_image_url': 'http://pbs.twimg.com/profile_images/1287042040027426816/V1kF_yJP_normal.jpg', 'profile_image_url_https': 'https://pbs.twimg.com/profile_images/1287042040027426816/V1kF_yJP_normal.jpg', 'profile_banner_url': 'https://pbs.twimg.com/profile_banners/1287039660816924672/1597331858', 'profile_link_color': '1DA1F2', 'profile_sidebar_border_color': 'C0DEED', 'profile_sidebar_fill_color': 'DDEEF6', 'profile_text_color': '333333', 'profile_use_background_image': True, 'has_extended_profile': True, 'default_profile': True, 'default_profile_image': False, 'following': False, 'follow_request_sent': False, 'notifications': False, 'translator_type': 'none'}, id=1287039660816924672, id_str='1287039660816924672', name='Pawan Ji Ka Fan', screen_name='PawanJiKaFan1', location='Dehradun', description='Inspire by @Pawankhera ji | Congressman | Software Engineer | followed by @Pawankhera, @SupriyaShrinate @rohanrgupta, @srinivasiyc, @srivatsayb, @NayakRagini', url=None, entities={'description': {'urls': []}}, protected=False, followers_count=1758, friends_count=2055, listed_count=4, created_at=datetime.datetime(2020, 7, 25, 14, 59, 14), favourites_count=5304, utc_offset=None, time_zone=None, geo_enabled=False, verified=False, statuses_count=6490, lang=None, contributors_enabled=False, is_translator=False, is_translation_enabled=False, profile_background_color='F5F8FA', profile_background_image_url=None, profile_background_image_url_https=None, profile_background_tile=False, profile_image_url='http://pbs.twimg.com/profile_images/1287042040027426816/V1kF_yJP_normal.jpg', profile_image_url_https='https://pbs.twimg.com/profile_images/1287042040027426816/V1kF_yJP_normal.jpg', profile_banner_url='https://pbs.twimg.com/profile_banners/1287039660816924672/1597331858', profile_link_color='1DA1F2', profile_sidebar_border_color='C0DEED', profile_sidebar_fill_color='DDEEF6', profile_text_color='333333', profile_use_background_image=True, has_extended_profile=True, default_profile=True, default_profile_image=False, following=False, follow_request_sent=False, notifications=False, translator_type='none'), geo=None, coordinates=None, place=None, contributors=None, is_quote_status=False, retweet_count=0, favorite_count=2, favorited=False, retweeted=False, lang='en') \n",
      "\n",
      ".....................................\n",
      "\n",
      "Status(_api=<tweepy.api.API object at 0x00000245AB624160>, _json={'created_at': 'Fri Oct 30 06:19:12 +0000 2020', 'id': 1322060466730934274, 'id_str': '1322060466730934274', 'full_text': '@Lipujen15826468 @IPL @mipaltan If either DC or RCB lose both matches...then SRH winning both will easily qualify as their NRR is better than DC and RCB..', 'truncated': False, 'display_text_range': [32, 154], 'entities': {'hashtags': [], 'symbols': [], 'user_mentions': [{'screen_name': 'Lipujen15826468', 'name': 'Tushar Jena', 'id': 1245053682112053249, 'id_str': '1245053682112053249', 'indices': [0, 16]}, {'screen_name': 'IPL', 'name': 'IndianPremierLeague', 'id': 15639696, 'id_str': '15639696', 'indices': [17, 21]}, {'screen_name': 'mipaltan', 'name': 'Mumbai Indians', 'id': 106345557, 'id_str': '106345557', 'indices': [22, 31]}], 'urls': []}, 'metadata': {'iso_language_code': 'en', 'result_type': 'recent'}, 'source': '<a href=\"https://mobile.twitter.com\" rel=\"nofollow\">Twitter Web App</a>', 'in_reply_to_status_id': 1321873300876713984, 'in_reply_to_status_id_str': '1321873300876713984', 'in_reply_to_user_id': 1245053682112053249, 'in_reply_to_user_id_str': '1245053682112053249', 'in_reply_to_screen_name': 'Lipujen15826468', 'user': {'id': 1000046676470464512, 'id_str': '1000046676470464512', 'name': 'Ashy', 'screen_name': 'ashybcci', 'location': 'India', 'description': 'True Indian .....Cricketer , Athlete , Comedian', 'url': None, 'entities': {'description': {'urls': []}}, 'protected': False, 'followers_count': 6, 'friends_count': 1, 'listed_count': 0, 'created_at': 'Fri May 25 16:11:22 +0000 2018', 'favourites_count': 628, 'utc_offset': None, 'time_zone': None, 'geo_enabled': False, 'verified': False, 'statuses_count': 344, 'lang': None, 'contributors_enabled': False, 'is_translator': False, 'is_translation_enabled': False, 'profile_background_color': 'F5F8FA', 'profile_background_image_url': None, 'profile_background_image_url_https': None, 'profile_background_tile': False, 'profile_image_url': 'http://abs.twimg.com/sticky/default_profile_images/default_profile_normal.png', 'profile_image_url_https': 'https://abs.twimg.com/sticky/default_profile_images/default_profile_normal.png', 'profile_link_color': '1DA1F2', 'profile_sidebar_border_color': 'C0DEED', 'profile_sidebar_fill_color': 'DDEEF6', 'profile_text_color': '333333', 'profile_use_background_image': True, 'has_extended_profile': False, 'default_profile': True, 'default_profile_image': True, 'following': False, 'follow_request_sent': False, 'notifications': False, 'translator_type': 'none'}, 'geo': None, 'coordinates': None, 'place': None, 'contributors': None, 'is_quote_status': False, 'retweet_count': 0, 'favorite_count': 1, 'favorited': False, 'retweeted': False, 'lang': 'en'}, created_at=datetime.datetime(2020, 10, 30, 6, 19, 12), id=1322060466730934274, id_str='1322060466730934274', full_text='@Lipujen15826468 @IPL @mipaltan If either DC or RCB lose both matches...then SRH winning both will easily qualify as their NRR is better than DC and RCB..', truncated=False, display_text_range=[32, 154], entities={'hashtags': [], 'symbols': [], 'user_mentions': [{'screen_name': 'Lipujen15826468', 'name': 'Tushar Jena', 'id': 1245053682112053249, 'id_str': '1245053682112053249', 'indices': [0, 16]}, {'screen_name': 'IPL', 'name': 'IndianPremierLeague', 'id': 15639696, 'id_str': '15639696', 'indices': [17, 21]}, {'screen_name': 'mipaltan', 'name': 'Mumbai Indians', 'id': 106345557, 'id_str': '106345557', 'indices': [22, 31]}], 'urls': []}, metadata={'iso_language_code': 'en', 'result_type': 'recent'}, source='Twitter Web App', source_url='https://mobile.twitter.com', in_reply_to_status_id=1321873300876713984, in_reply_to_status_id_str='1321873300876713984', in_reply_to_user_id=1245053682112053249, in_reply_to_user_id_str='1245053682112053249', in_reply_to_screen_name='Lipujen15826468', author=User(_api=<tweepy.api.API object at 0x00000245AB624160>, _json={'id': 1000046676470464512, 'id_str': '1000046676470464512', 'name': 'Ashy', 'screen_name': 'ashybcci', 'location': 'India', 'description': 'True Indian .....Cricketer , Athlete , Comedian', 'url': None, 'entities': {'description': {'urls': []}}, 'protected': False, 'followers_count': 6, 'friends_count': 1, 'listed_count': 0, 'created_at': 'Fri May 25 16:11:22 +0000 2018', 'favourites_count': 628, 'utc_offset': None, 'time_zone': None, 'geo_enabled': False, 'verified': False, 'statuses_count': 344, 'lang': None, 'contributors_enabled': False, 'is_translator': False, 'is_translation_enabled': False, 'profile_background_color': 'F5F8FA', 'profile_background_image_url': None, 'profile_background_image_url_https': None, 'profile_background_tile': False, 'profile_image_url': 'http://abs.twimg.com/sticky/default_profile_images/default_profile_normal.png', 'profile_image_url_https': 'https://abs.twimg.com/sticky/default_profile_images/default_profile_normal.png', 'profile_link_color': '1DA1F2', 'profile_sidebar_border_color': 'C0DEED', 'profile_sidebar_fill_color': 'DDEEF6', 'profile_text_color': '333333', 'profile_use_background_image': True, 'has_extended_profile': False, 'default_profile': True, 'default_profile_image': True, 'following': False, 'follow_request_sent': False, 'notifications': False, 'translator_type': 'none'}, id=1000046676470464512, id_str='1000046676470464512', name='Ashy', screen_name='ashybcci', location='India', description='True Indian .....Cricketer , Athlete , Comedian', url=None, entities={'description': {'urls': []}}, protected=False, followers_count=6, friends_count=1, listed_count=0, created_at=datetime.datetime(2018, 5, 25, 16, 11, 22), favourites_count=628, utc_offset=None, time_zone=None, geo_enabled=False, verified=False, statuses_count=344, lang=None, contributors_enabled=False, is_translator=False, is_translation_enabled=False, profile_background_color='F5F8FA', profile_background_image_url=None, profile_background_image_url_https=None, profile_background_tile=False, profile_image_url='http://abs.twimg.com/sticky/default_profile_images/default_profile_normal.png', profile_image_url_https='https://abs.twimg.com/sticky/default_profile_images/default_profile_normal.png', profile_link_color='1DA1F2', profile_sidebar_border_color='C0DEED', profile_sidebar_fill_color='DDEEF6', profile_text_color='333333', profile_use_background_image=True, has_extended_profile=False, default_profile=True, default_profile_image=True, following=False, follow_request_sent=False, notifications=False, translator_type='none'), user=User(_api=<tweepy.api.API object at 0x00000245AB624160>, _json={'id': 1000046676470464512, 'id_str': '1000046676470464512', 'name': 'Ashy', 'screen_name': 'ashybcci', 'location': 'India', 'description': 'True Indian .....Cricketer , Athlete , Comedian', 'url': None, 'entities': {'description': {'urls': []}}, 'protected': False, 'followers_count': 6, 'friends_count': 1, 'listed_count': 0, 'created_at': 'Fri May 25 16:11:22 +0000 2018', 'favourites_count': 628, 'utc_offset': None, 'time_zone': None, 'geo_enabled': False, 'verified': False, 'statuses_count': 344, 'lang': None, 'contributors_enabled': False, 'is_translator': False, 'is_translation_enabled': False, 'profile_background_color': 'F5F8FA', 'profile_background_image_url': None, 'profile_background_image_url_https': None, 'profile_background_tile': False, 'profile_image_url': 'http://abs.twimg.com/sticky/default_profile_images/default_profile_normal.png', 'profile_image_url_https': 'https://abs.twimg.com/sticky/default_profile_images/default_profile_normal.png', 'profile_link_color': '1DA1F2', 'profile_sidebar_border_color': 'C0DEED', 'profile_sidebar_fill_color': 'DDEEF6', 'profile_text_color': '333333', 'profile_use_background_image': True, 'has_extended_profile': False, 'default_profile': True, 'default_profile_image': True, 'following': False, 'follow_request_sent': False, 'notifications': False, 'translator_type': 'none'}, id=1000046676470464512, id_str='1000046676470464512', name='Ashy', screen_name='ashybcci', location='India', description='True Indian .....Cricketer , Athlete , Comedian', url=None, entities={'description': {'urls': []}}, protected=False, followers_count=6, friends_count=1, listed_count=0, created_at=datetime.datetime(2018, 5, 25, 16, 11, 22), favourites_count=628, utc_offset=None, time_zone=None, geo_enabled=False, verified=False, statuses_count=344, lang=None, contributors_enabled=False, is_translator=False, is_translation_enabled=False, profile_background_color='F5F8FA', profile_background_image_url=None, profile_background_image_url_https=None, profile_background_tile=False, profile_image_url='http://abs.twimg.com/sticky/default_profile_images/default_profile_normal.png', profile_image_url_https='https://abs.twimg.com/sticky/default_profile_images/default_profile_normal.png', profile_link_color='1DA1F2', profile_sidebar_border_color='C0DEED', profile_sidebar_fill_color='DDEEF6', profile_text_color='333333', profile_use_background_image=True, has_extended_profile=False, default_profile=True, default_profile_image=True, following=False, follow_request_sent=False, notifications=False, translator_type='none'), geo=None, coordinates=None, place=None, contributors=None, is_quote_status=False, retweet_count=0, favorite_count=1, favorited=False, retweeted=False, lang='en') \n",
      "\n",
      ".....................................\n",
      "\n",
      "Status(_api=<tweepy.api.API object at 0x00000245AB624160>, _json={'created_at': 'Fri Oct 30 06:18:53 +0000 2020', 'id': 1322060384757448704, 'id_str': '1322060384757448704', 'full_text': '@imVkohli @RCBTweets If next match IPL playoff / final b/w RCB vs MI it’s just like a big War. SKY was duck out 1st match vs RCB in-front of King Virat Ji ur just like a kid. Ur winning action so nice. RCB/ Virat Ji is ready to give return gift very soon to MI (SKY, Rohit, I Kishan, Pandiya”s bro’s)', 'truncated': False, 'display_text_range': [21, 300], 'entities': {'hashtags': [], 'symbols': [], 'user_mentions': [{'screen_name': 'imVkohli', 'name': 'Virat Kohli', 'id': 71201743, 'id_str': '71201743', 'indices': [0, 9]}, {'screen_name': 'RCBTweets', 'name': 'Royal Challengers Bangalore', 'id': 70931004, 'id_str': '70931004', 'indices': [10, 20]}], 'urls': []}, 'metadata': {'iso_language_code': 'en', 'result_type': 'recent'}, 'source': '<a href=\"http://twitter.com/download/iphone\" rel=\"nofollow\">Twitter for iPhone</a>', 'in_reply_to_status_id': 1321518923880169472, 'in_reply_to_status_id_str': '1321518923880169472', 'in_reply_to_user_id': 71201743, 'in_reply_to_user_id_str': '71201743', 'in_reply_to_screen_name': 'imVkohli', 'user': {'id': 3283579334, 'id_str': '3283579334', 'name': 'B Raveendranadh Singh', 'screen_name': 'BRaveendranadh', 'location': 'Hyderabad, India', 'description': '', 'url': None, 'entities': {'description': {'urls': []}}, 'protected': False, 'followers_count': 8, 'friends_count': 20, 'listed_count': 0, 'created_at': 'Sat Jul 18 17:24:21 +0000 2015', 'favourites_count': 124, 'utc_offset': None, 'time_zone': None, 'geo_enabled': False, 'verified': False, 'statuses_count': 13, 'lang': None, 'contributors_enabled': False, 'is_translator': False, 'is_translation_enabled': False, 'profile_background_color': '000000', 'profile_background_image_url': 'http://abs.twimg.com/images/themes/theme1/bg.png', 'profile_background_image_url_https': 'https://abs.twimg.com/images/themes/theme1/bg.png', 'profile_background_tile': False, 'profile_image_url': 'http://abs.twimg.com/sticky/default_profile_images/default_profile_normal.png', 'profile_image_url_https': 'https://abs.twimg.com/sticky/default_profile_images/default_profile_normal.png', 'profile_link_color': '1B95E0', 'profile_sidebar_border_color': '000000', 'profile_sidebar_fill_color': '000000', 'profile_text_color': '000000', 'profile_use_background_image': False, 'has_extended_profile': False, 'default_profile': False, 'default_profile_image': True, 'following': False, 'follow_request_sent': False, 'notifications': False, 'translator_type': 'none'}, 'geo': None, 'coordinates': None, 'place': None, 'contributors': None, 'is_quote_status': False, 'retweet_count': 0, 'favorite_count': 1, 'favorited': False, 'retweeted': False, 'lang': 'en'}, created_at=datetime.datetime(2020, 10, 30, 6, 18, 53), id=1322060384757448704, id_str='1322060384757448704', full_text='@imVkohli @RCBTweets If next match IPL playoff / final b/w RCB vs MI it’s just like a big War. SKY was duck out 1st match vs RCB in-front of King Virat Ji ur just like a kid. Ur winning action so nice. RCB/ Virat Ji is ready to give return gift very soon to MI (SKY, Rohit, I Kishan, Pandiya”s bro’s)', truncated=False, display_text_range=[21, 300], entities={'hashtags': [], 'symbols': [], 'user_mentions': [{'screen_name': 'imVkohli', 'name': 'Virat Kohli', 'id': 71201743, 'id_str': '71201743', 'indices': [0, 9]}, {'screen_name': 'RCBTweets', 'name': 'Royal Challengers Bangalore', 'id': 70931004, 'id_str': '70931004', 'indices': [10, 20]}], 'urls': []}, metadata={'iso_language_code': 'en', 'result_type': 'recent'}, source='Twitter for iPhone', source_url='http://twitter.com/download/iphone', in_reply_to_status_id=1321518923880169472, in_reply_to_status_id_str='1321518923880169472', in_reply_to_user_id=71201743, in_reply_to_user_id_str='71201743', in_reply_to_screen_name='imVkohli', author=User(_api=<tweepy.api.API object at 0x00000245AB624160>, _json={'id': 3283579334, 'id_str': '3283579334', 'name': 'B Raveendranadh Singh', 'screen_name': 'BRaveendranadh', 'location': 'Hyderabad, India', 'description': '', 'url': None, 'entities': {'description': {'urls': []}}, 'protected': False, 'followers_count': 8, 'friends_count': 20, 'listed_count': 0, 'created_at': 'Sat Jul 18 17:24:21 +0000 2015', 'favourites_count': 124, 'utc_offset': None, 'time_zone': None, 'geo_enabled': False, 'verified': False, 'statuses_count': 13, 'lang': None, 'contributors_enabled': False, 'is_translator': False, 'is_translation_enabled': False, 'profile_background_color': '000000', 'profile_background_image_url': 'http://abs.twimg.com/images/themes/theme1/bg.png', 'profile_background_image_url_https': 'https://abs.twimg.com/images/themes/theme1/bg.png', 'profile_background_tile': False, 'profile_image_url': 'http://abs.twimg.com/sticky/default_profile_images/default_profile_normal.png', 'profile_image_url_https': 'https://abs.twimg.com/sticky/default_profile_images/default_profile_normal.png', 'profile_link_color': '1B95E0', 'profile_sidebar_border_color': '000000', 'profile_sidebar_fill_color': '000000', 'profile_text_color': '000000', 'profile_use_background_image': False, 'has_extended_profile': False, 'default_profile': False, 'default_profile_image': True, 'following': False, 'follow_request_sent': False, 'notifications': False, 'translator_type': 'none'}, id=3283579334, id_str='3283579334', name='B Raveendranadh Singh', screen_name='BRaveendranadh', location='Hyderabad, India', description='', url=None, entities={'description': {'urls': []}}, protected=False, followers_count=8, friends_count=20, listed_count=0, created_at=datetime.datetime(2015, 7, 18, 17, 24, 21), favourites_count=124, utc_offset=None, time_zone=None, geo_enabled=False, verified=False, statuses_count=13, lang=None, contributors_enabled=False, is_translator=False, is_translation_enabled=False, profile_background_color='000000', profile_background_image_url='http://abs.twimg.com/images/themes/theme1/bg.png', profile_background_image_url_https='https://abs.twimg.com/images/themes/theme1/bg.png', profile_background_tile=False, profile_image_url='http://abs.twimg.com/sticky/default_profile_images/default_profile_normal.png', profile_image_url_https='https://abs.twimg.com/sticky/default_profile_images/default_profile_normal.png', profile_link_color='1B95E0', profile_sidebar_border_color='000000', profile_sidebar_fill_color='000000', profile_text_color='000000', profile_use_background_image=False, has_extended_profile=False, default_profile=False, default_profile_image=True, following=False, follow_request_sent=False, notifications=False, translator_type='none'), user=User(_api=<tweepy.api.API object at 0x00000245AB624160>, _json={'id': 3283579334, 'id_str': '3283579334', 'name': 'B Raveendranadh Singh', 'screen_name': 'BRaveendranadh', 'location': 'Hyderabad, India', 'description': '', 'url': None, 'entities': {'description': {'urls': []}}, 'protected': False, 'followers_count': 8, 'friends_count': 20, 'listed_count': 0, 'created_at': 'Sat Jul 18 17:24:21 +0000 2015', 'favourites_count': 124, 'utc_offset': None, 'time_zone': None, 'geo_enabled': False, 'verified': False, 'statuses_count': 13, 'lang': None, 'contributors_enabled': False, 'is_translator': False, 'is_translation_enabled': False, 'profile_background_color': '000000', 'profile_background_image_url': 'http://abs.twimg.com/images/themes/theme1/bg.png', 'profile_background_image_url_https': 'https://abs.twimg.com/images/themes/theme1/bg.png', 'profile_background_tile': False, 'profile_image_url': 'http://abs.twimg.com/sticky/default_profile_images/default_profile_normal.png', 'profile_image_url_https': 'https://abs.twimg.com/sticky/default_profile_images/default_profile_normal.png', 'profile_link_color': '1B95E0', 'profile_sidebar_border_color': '000000', 'profile_sidebar_fill_color': '000000', 'profile_text_color': '000000', 'profile_use_background_image': False, 'has_extended_profile': False, 'default_profile': False, 'default_profile_image': True, 'following': False, 'follow_request_sent': False, 'notifications': False, 'translator_type': 'none'}, id=3283579334, id_str='3283579334', name='B Raveendranadh Singh', screen_name='BRaveendranadh', location='Hyderabad, India', description='', url=None, entities={'description': {'urls': []}}, protected=False, followers_count=8, friends_count=20, listed_count=0, created_at=datetime.datetime(2015, 7, 18, 17, 24, 21), favourites_count=124, utc_offset=None, time_zone=None, geo_enabled=False, verified=False, statuses_count=13, lang=None, contributors_enabled=False, is_translator=False, is_translation_enabled=False, profile_background_color='000000', profile_background_image_url='http://abs.twimg.com/images/themes/theme1/bg.png', profile_background_image_url_https='https://abs.twimg.com/images/themes/theme1/bg.png', profile_background_tile=False, profile_image_url='http://abs.twimg.com/sticky/default_profile_images/default_profile_normal.png', profile_image_url_https='https://abs.twimg.com/sticky/default_profile_images/default_profile_normal.png', profile_link_color='1B95E0', profile_sidebar_border_color='000000', profile_sidebar_fill_color='000000', profile_text_color='000000', profile_use_background_image=False, has_extended_profile=False, default_profile=False, default_profile_image=True, following=False, follow_request_sent=False, notifications=False, translator_type='none'), geo=None, coordinates=None, place=None, contributors=None, is_quote_status=False, retweet_count=0, favorite_count=1, favorited=False, retweeted=False, lang='en') \n",
      "\n",
      ".....................................\n",
      "\n",
      "Status(_api=<tweepy.api.API object at 0x00000245AB624160>, _json={'created_at': 'Fri Oct 30 02:43:20 +0000 2020', 'id': 1322006143430918144, 'id_str': '1322006143430918144', 'full_text': '@bhaleraosarang What would be the scenario for RCB to qualify without winning their last match against Delhi ? Also, I think the closest we came to The NRR being a deciding factor was in 2014 IPL. Is there any chance that we are headed in towards that way ?', 'truncated': False, 'display_text_range': [16, 257], 'entities': {'hashtags': [], 'symbols': [], 'user_mentions': [{'screen_name': 'bhaleraosarang', 'name': 'Sarang Bhalerao', 'id': 560178859, 'id_str': '560178859', 'indices': [0, 15]}], 'urls': []}, 'metadata': {'iso_language_code': 'en', 'result_type': 'recent'}, 'source': '<a href=\"https://mobile.twitter.com\" rel=\"nofollow\">Twitter Web App</a>', 'in_reply_to_status_id': 1322002932590501888, 'in_reply_to_status_id_str': '1322002932590501888', 'in_reply_to_user_id': 560178859, 'in_reply_to_user_id_str': '560178859', 'in_reply_to_screen_name': 'bhaleraosarang', 'user': {'id': 844818437499105280, 'id_str': '844818437499105280', 'name': 'Kartik O 🏏⚽🔗', 'screen_name': 'KOCricket528', 'location': 'New Delhi, India', 'description': \"Delhi Daredevils ( Now Delhi Capitals) Fan From @IPL , Indian Cricket's Fan & also, like most people you meet in your life, An Engineer 😀\", 'url': None, 'entities': {'description': {'urls': []}}, 'protected': False, 'followers_count': 269, 'friends_count': 398, 'listed_count': 1, 'created_at': 'Thu Mar 23 07:49:46 +0000 2017', 'favourites_count': 136206, 'utc_offset': None, 'time_zone': None, 'geo_enabled': False, 'verified': False, 'statuses_count': 29923, 'lang': None, 'contributors_enabled': False, 'is_translator': False, 'is_translation_enabled': False, 'profile_background_color': '000000', 'profile_background_image_url': 'http://abs.twimg.com/images/themes/theme1/bg.png', 'profile_background_image_url_https': 'https://abs.twimg.com/images/themes/theme1/bg.png', 'profile_background_tile': False, 'profile_image_url': 'http://pbs.twimg.com/profile_images/1278614120137277440/7tZ-_3Rm_normal.jpg', 'profile_image_url_https': 'https://pbs.twimg.com/profile_images/1278614120137277440/7tZ-_3Rm_normal.jpg', 'profile_banner_url': 'https://pbs.twimg.com/profile_banners/844818437499105280/1597520468', 'profile_link_color': 'E81C4F', 'profile_sidebar_border_color': '000000', 'profile_sidebar_fill_color': '000000', 'profile_text_color': '000000', 'profile_use_background_image': False, 'has_extended_profile': True, 'default_profile': False, 'default_profile_image': False, 'following': False, 'follow_request_sent': False, 'notifications': False, 'translator_type': 'none'}, 'geo': None, 'coordinates': None, 'place': None, 'contributors': None, 'is_quote_status': False, 'retweet_count': 0, 'favorite_count': 0, 'favorited': False, 'retweeted': False, 'lang': 'en'}, created_at=datetime.datetime(2020, 10, 30, 2, 43, 20), id=1322006143430918144, id_str='1322006143430918144', full_text='@bhaleraosarang What would be the scenario for RCB to qualify without winning their last match against Delhi ? Also, I think the closest we came to The NRR being a deciding factor was in 2014 IPL. Is there any chance that we are headed in towards that way ?', truncated=False, display_text_range=[16, 257], entities={'hashtags': [], 'symbols': [], 'user_mentions': [{'screen_name': 'bhaleraosarang', 'name': 'Sarang Bhalerao', 'id': 560178859, 'id_str': '560178859', 'indices': [0, 15]}], 'urls': []}, metadata={'iso_language_code': 'en', 'result_type': 'recent'}, source='Twitter Web App', source_url='https://mobile.twitter.com', in_reply_to_status_id=1322002932590501888, in_reply_to_status_id_str='1322002932590501888', in_reply_to_user_id=560178859, in_reply_to_user_id_str='560178859', in_reply_to_screen_name='bhaleraosarang', author=User(_api=<tweepy.api.API object at 0x00000245AB624160>, _json={'id': 844818437499105280, 'id_str': '844818437499105280', 'name': 'Kartik O 🏏⚽🔗', 'screen_name': 'KOCricket528', 'location': 'New Delhi, India', 'description': \"Delhi Daredevils ( Now Delhi Capitals) Fan From @IPL , Indian Cricket's Fan & also, like most people you meet in your life, An Engineer 😀\", 'url': None, 'entities': {'description': {'urls': []}}, 'protected': False, 'followers_count': 269, 'friends_count': 398, 'listed_count': 1, 'created_at': 'Thu Mar 23 07:49:46 +0000 2017', 'favourites_count': 136206, 'utc_offset': None, 'time_zone': None, 'geo_enabled': False, 'verified': False, 'statuses_count': 29923, 'lang': None, 'contributors_enabled': False, 'is_translator': False, 'is_translation_enabled': False, 'profile_background_color': '000000', 'profile_background_image_url': 'http://abs.twimg.com/images/themes/theme1/bg.png', 'profile_background_image_url_https': 'https://abs.twimg.com/images/themes/theme1/bg.png', 'profile_background_tile': False, 'profile_image_url': 'http://pbs.twimg.com/profile_images/1278614120137277440/7tZ-_3Rm_normal.jpg', 'profile_image_url_https': 'https://pbs.twimg.com/profile_images/1278614120137277440/7tZ-_3Rm_normal.jpg', 'profile_banner_url': 'https://pbs.twimg.com/profile_banners/844818437499105280/1597520468', 'profile_link_color': 'E81C4F', 'profile_sidebar_border_color': '000000', 'profile_sidebar_fill_color': '000000', 'profile_text_color': '000000', 'profile_use_background_image': False, 'has_extended_profile': True, 'default_profile': False, 'default_profile_image': False, 'following': False, 'follow_request_sent': False, 'notifications': False, 'translator_type': 'none'}, id=844818437499105280, id_str='844818437499105280', name='Kartik O 🏏⚽🔗', screen_name='KOCricket528', location='New Delhi, India', description=\"Delhi Daredevils ( Now Delhi Capitals) Fan From @IPL , Indian Cricket's Fan & also, like most people you meet in your life, An Engineer 😀\", url=None, entities={'description': {'urls': []}}, protected=False, followers_count=269, friends_count=398, listed_count=1, created_at=datetime.datetime(2017, 3, 23, 7, 49, 46), favourites_count=136206, utc_offset=None, time_zone=None, geo_enabled=False, verified=False, statuses_count=29923, lang=None, contributors_enabled=False, is_translator=False, is_translation_enabled=False, profile_background_color='000000', profile_background_image_url='http://abs.twimg.com/images/themes/theme1/bg.png', profile_background_image_url_https='https://abs.twimg.com/images/themes/theme1/bg.png', profile_background_tile=False, profile_image_url='http://pbs.twimg.com/profile_images/1278614120137277440/7tZ-_3Rm_normal.jpg', profile_image_url_https='https://pbs.twimg.com/profile_images/1278614120137277440/7tZ-_3Rm_normal.jpg', profile_banner_url='https://pbs.twimg.com/profile_banners/844818437499105280/1597520468', profile_link_color='E81C4F', profile_sidebar_border_color='000000', profile_sidebar_fill_color='000000', profile_text_color='000000', profile_use_background_image=False, has_extended_profile=True, default_profile=False, default_profile_image=False, following=False, follow_request_sent=False, notifications=False, translator_type='none'), user=User(_api=<tweepy.api.API object at 0x00000245AB624160>, _json={'id': 844818437499105280, 'id_str': '844818437499105280', 'name': 'Kartik O 🏏⚽🔗', 'screen_name': 'KOCricket528', 'location': 'New Delhi, India', 'description': \"Delhi Daredevils ( Now Delhi Capitals) Fan From @IPL , Indian Cricket's Fan & also, like most people you meet in your life, An Engineer 😀\", 'url': None, 'entities': {'description': {'urls': []}}, 'protected': False, 'followers_count': 269, 'friends_count': 398, 'listed_count': 1, 'created_at': 'Thu Mar 23 07:49:46 +0000 2017', 'favourites_count': 136206, 'utc_offset': None, 'time_zone': None, 'geo_enabled': False, 'verified': False, 'statuses_count': 29923, 'lang': None, 'contributors_enabled': False, 'is_translator': False, 'is_translation_enabled': False, 'profile_background_color': '000000', 'profile_background_image_url': 'http://abs.twimg.com/images/themes/theme1/bg.png', 'profile_background_image_url_https': 'https://abs.twimg.com/images/themes/theme1/bg.png', 'profile_background_tile': False, 'profile_image_url': 'http://pbs.twimg.com/profile_images/1278614120137277440/7tZ-_3Rm_normal.jpg', 'profile_image_url_https': 'https://pbs.twimg.com/profile_images/1278614120137277440/7tZ-_3Rm_normal.jpg', 'profile_banner_url': 'https://pbs.twimg.com/profile_banners/844818437499105280/1597520468', 'profile_link_color': 'E81C4F', 'profile_sidebar_border_color': '000000', 'profile_sidebar_fill_color': '000000', 'profile_text_color': '000000', 'profile_use_background_image': False, 'has_extended_profile': True, 'default_profile': False, 'default_profile_image': False, 'following': False, 'follow_request_sent': False, 'notifications': False, 'translator_type': 'none'}, id=844818437499105280, id_str='844818437499105280', name='Kartik O 🏏⚽🔗', screen_name='KOCricket528', location='New Delhi, India', description=\"Delhi Daredevils ( Now Delhi Capitals) Fan From @IPL , Indian Cricket's Fan & also, like most people you meet in your life, An Engineer 😀\", url=None, entities={'description': {'urls': []}}, protected=False, followers_count=269, friends_count=398, listed_count=1, created_at=datetime.datetime(2017, 3, 23, 7, 49, 46), favourites_count=136206, utc_offset=None, time_zone=None, geo_enabled=False, verified=False, statuses_count=29923, lang=None, contributors_enabled=False, is_translator=False, is_translation_enabled=False, profile_background_color='000000', profile_background_image_url='http://abs.twimg.com/images/themes/theme1/bg.png', profile_background_image_url_https='https://abs.twimg.com/images/themes/theme1/bg.png', profile_background_tile=False, profile_image_url='http://pbs.twimg.com/profile_images/1278614120137277440/7tZ-_3Rm_normal.jpg', profile_image_url_https='https://pbs.twimg.com/profile_images/1278614120137277440/7tZ-_3Rm_normal.jpg', profile_banner_url='https://pbs.twimg.com/profile_banners/844818437499105280/1597520468', profile_link_color='E81C4F', profile_sidebar_border_color='000000', profile_sidebar_fill_color='000000', profile_text_color='000000', profile_use_background_image=False, has_extended_profile=True, default_profile=False, default_profile_image=False, following=False, follow_request_sent=False, notifications=False, translator_type='none'), geo=None, coordinates=None, place=None, contributors=None, is_quote_status=False, retweet_count=0, favorite_count=0, favorited=False, retweeted=False, lang='en') \n",
      "\n",
      ".....................................\n",
      "\n",
      "Status(_api=<tweepy.api.API object at 0x00000245AB624160>, _json={'created_at': 'Thu Oct 29 20:10:11 +0000 2020', 'id': 1321907203553468416, 'id_str': '1321907203553468416', 'full_text': '@Bum10Niru @RajeshBadugula1 @mipaltan Forget qualification. They win one ipl trophy , their fans will make it sound like they won 10. But then again RCB having a chance to win an ipl only happens on a leap year. If not MI, Wouldn’t mind any other team winning but not RCB.', 'truncated': False, 'display_text_range': [38, 272], 'entities': {'hashtags': [], 'symbols': [], 'user_mentions': [{'screen_name': 'Bum10Niru', 'name': 'NiruBum10', 'id': 1311111151686578177, 'id_str': '1311111151686578177', 'indices': [0, 10]}, {'screen_name': 'RajeshBadugula1', 'name': 'Rajesh Badugula', 'id': 2392891689, 'id_str': '2392891689', 'indices': [11, 27]}, {'screen_name': 'mipaltan', 'name': 'Mumbai Indians', 'id': 106345557, 'id_str': '106345557', 'indices': [28, 37]}], 'urls': []}, 'metadata': {'iso_language_code': 'en', 'result_type': 'recent'}, 'source': '<a href=\"http://twitter.com/download/iphone\" rel=\"nofollow\">Twitter for iPhone</a>', 'in_reply_to_status_id': 1321871371937308678, 'in_reply_to_status_id_str': '1321871371937308678', 'in_reply_to_user_id': 1311111151686578177, 'in_reply_to_user_id_str': '1311111151686578177', 'in_reply_to_screen_name': 'Bum10Niru', 'user': {'id': 869142833046880256, 'id_str': '869142833046880256', 'name': 'Nikhil k', 'screen_name': 'Nikhilk_2001', 'location': 'The mysterious land of india', 'description': 'passionate for F1 ,cricket and football,Man Utd fan,love horses and speed, love to travel and meet new people, Ferrari fan,Charles Leclerc supporter.Polo player', 'url': 'https://t.co/TABIXKyI88', 'entities': {'url': {'urls': [{'url': 'https://t.co/TABIXKyI88', 'expanded_url': 'https://nikhilkumarf1.wordpress.com', 'display_url': 'nikhilkumarf1.wordpress.com', 'indices': [0, 23]}]}, 'description': {'urls': []}}, 'protected': False, 'followers_count': 37, 'friends_count': 1473, 'listed_count': 1, 'created_at': 'Mon May 29 10:46:14 +0000 2017', 'favourites_count': 662, 'utc_offset': None, 'time_zone': None, 'geo_enabled': True, 'verified': False, 'statuses_count': 577, 'lang': None, 'contributors_enabled': False, 'is_translator': False, 'is_translation_enabled': False, 'profile_background_color': 'F5F8FA', 'profile_background_image_url': None, 'profile_background_image_url_https': None, 'profile_background_tile': False, 'profile_image_url': 'http://pbs.twimg.com/profile_images/1289768115782299648/p56DCO06_normal.jpg', 'profile_image_url_https': 'https://pbs.twimg.com/profile_images/1289768115782299648/p56DCO06_normal.jpg', 'profile_link_color': '1DA1F2', 'profile_sidebar_border_color': 'C0DEED', 'profile_sidebar_fill_color': 'DDEEF6', 'profile_text_color': '333333', 'profile_use_background_image': True, 'has_extended_profile': False, 'default_profile': True, 'default_profile_image': False, 'following': False, 'follow_request_sent': False, 'notifications': False, 'translator_type': 'none'}, 'geo': None, 'coordinates': None, 'place': None, 'contributors': None, 'is_quote_status': False, 'retweet_count': 0, 'favorite_count': 2, 'favorited': False, 'retweeted': False, 'lang': 'en'}, created_at=datetime.datetime(2020, 10, 29, 20, 10, 11), id=1321907203553468416, id_str='1321907203553468416', full_text='@Bum10Niru @RajeshBadugula1 @mipaltan Forget qualification. They win one ipl trophy , their fans will make it sound like they won 10. But then again RCB having a chance to win an ipl only happens on a leap year. If not MI, Wouldn’t mind any other team winning but not RCB.', truncated=False, display_text_range=[38, 272], entities={'hashtags': [], 'symbols': [], 'user_mentions': [{'screen_name': 'Bum10Niru', 'name': 'NiruBum10', 'id': 1311111151686578177, 'id_str': '1311111151686578177', 'indices': [0, 10]}, {'screen_name': 'RajeshBadugula1', 'name': 'Rajesh Badugula', 'id': 2392891689, 'id_str': '2392891689', 'indices': [11, 27]}, {'screen_name': 'mipaltan', 'name': 'Mumbai Indians', 'id': 106345557, 'id_str': '106345557', 'indices': [28, 37]}], 'urls': []}, metadata={'iso_language_code': 'en', 'result_type': 'recent'}, source='Twitter for iPhone', source_url='http://twitter.com/download/iphone', in_reply_to_status_id=1321871371937308678, in_reply_to_status_id_str='1321871371937308678', in_reply_to_user_id=1311111151686578177, in_reply_to_user_id_str='1311111151686578177', in_reply_to_screen_name='Bum10Niru', author=User(_api=<tweepy.api.API object at 0x00000245AB624160>, _json={'id': 869142833046880256, 'id_str': '869142833046880256', 'name': 'Nikhil k', 'screen_name': 'Nikhilk_2001', 'location': 'The mysterious land of india', 'description': 'passionate for F1 ,cricket and football,Man Utd fan,love horses and speed, love to travel and meet new people, Ferrari fan,Charles Leclerc supporter.Polo player', 'url': 'https://t.co/TABIXKyI88', 'entities': {'url': {'urls': [{'url': 'https://t.co/TABIXKyI88', 'expanded_url': 'https://nikhilkumarf1.wordpress.com', 'display_url': 'nikhilkumarf1.wordpress.com', 'indices': [0, 23]}]}, 'description': {'urls': []}}, 'protected': False, 'followers_count': 37, 'friends_count': 1473, 'listed_count': 1, 'created_at': 'Mon May 29 10:46:14 +0000 2017', 'favourites_count': 662, 'utc_offset': None, 'time_zone': None, 'geo_enabled': True, 'verified': False, 'statuses_count': 577, 'lang': None, 'contributors_enabled': False, 'is_translator': False, 'is_translation_enabled': False, 'profile_background_color': 'F5F8FA', 'profile_background_image_url': None, 'profile_background_image_url_https': None, 'profile_background_tile': False, 'profile_image_url': 'http://pbs.twimg.com/profile_images/1289768115782299648/p56DCO06_normal.jpg', 'profile_image_url_https': 'https://pbs.twimg.com/profile_images/1289768115782299648/p56DCO06_normal.jpg', 'profile_link_color': '1DA1F2', 'profile_sidebar_border_color': 'C0DEED', 'profile_sidebar_fill_color': 'DDEEF6', 'profile_text_color': '333333', 'profile_use_background_image': True, 'has_extended_profile': False, 'default_profile': True, 'default_profile_image': False, 'following': False, 'follow_request_sent': False, 'notifications': False, 'translator_type': 'none'}, id=869142833046880256, id_str='869142833046880256', name='Nikhil k', screen_name='Nikhilk_2001', location='The mysterious land of india', description='passionate for F1 ,cricket and football,Man Utd fan,love horses and speed, love to travel and meet new people, Ferrari fan,Charles Leclerc supporter.Polo player', url='https://t.co/TABIXKyI88', entities={'url': {'urls': [{'url': 'https://t.co/TABIXKyI88', 'expanded_url': 'https://nikhilkumarf1.wordpress.com', 'display_url': 'nikhilkumarf1.wordpress.com', 'indices': [0, 23]}]}, 'description': {'urls': []}}, protected=False, followers_count=37, friends_count=1473, listed_count=1, created_at=datetime.datetime(2017, 5, 29, 10, 46, 14), favourites_count=662, utc_offset=None, time_zone=None, geo_enabled=True, verified=False, statuses_count=577, lang=None, contributors_enabled=False, is_translator=False, is_translation_enabled=False, profile_background_color='F5F8FA', profile_background_image_url=None, profile_background_image_url_https=None, profile_background_tile=False, profile_image_url='http://pbs.twimg.com/profile_images/1289768115782299648/p56DCO06_normal.jpg', profile_image_url_https='https://pbs.twimg.com/profile_images/1289768115782299648/p56DCO06_normal.jpg', profile_link_color='1DA1F2', profile_sidebar_border_color='C0DEED', profile_sidebar_fill_color='DDEEF6', profile_text_color='333333', profile_use_background_image=True, has_extended_profile=False, default_profile=True, default_profile_image=False, following=False, follow_request_sent=False, notifications=False, translator_type='none'), user=User(_api=<tweepy.api.API object at 0x00000245AB624160>, _json={'id': 869142833046880256, 'id_str': '869142833046880256', 'name': 'Nikhil k', 'screen_name': 'Nikhilk_2001', 'location': 'The mysterious land of india', 'description': 'passionate for F1 ,cricket and football,Man Utd fan,love horses and speed, love to travel and meet new people, Ferrari fan,Charles Leclerc supporter.Polo player', 'url': 'https://t.co/TABIXKyI88', 'entities': {'url': {'urls': [{'url': 'https://t.co/TABIXKyI88', 'expanded_url': 'https://nikhilkumarf1.wordpress.com', 'display_url': 'nikhilkumarf1.wordpress.com', 'indices': [0, 23]}]}, 'description': {'urls': []}}, 'protected': False, 'followers_count': 37, 'friends_count': 1473, 'listed_count': 1, 'created_at': 'Mon May 29 10:46:14 +0000 2017', 'favourites_count': 662, 'utc_offset': None, 'time_zone': None, 'geo_enabled': True, 'verified': False, 'statuses_count': 577, 'lang': None, 'contributors_enabled': False, 'is_translator': False, 'is_translation_enabled': False, 'profile_background_color': 'F5F8FA', 'profile_background_image_url': None, 'profile_background_image_url_https': None, 'profile_background_tile': False, 'profile_image_url': 'http://pbs.twimg.com/profile_images/1289768115782299648/p56DCO06_normal.jpg', 'profile_image_url_https': 'https://pbs.twimg.com/profile_images/1289768115782299648/p56DCO06_normal.jpg', 'profile_link_color': '1DA1F2', 'profile_sidebar_border_color': 'C0DEED', 'profile_sidebar_fill_color': 'DDEEF6', 'profile_text_color': '333333', 'profile_use_background_image': True, 'has_extended_profile': False, 'default_profile': True, 'default_profile_image': False, 'following': False, 'follow_request_sent': False, 'notifications': False, 'translator_type': 'none'}, id=869142833046880256, id_str='869142833046880256', name='Nikhil k', screen_name='Nikhilk_2001', location='The mysterious land of india', description='passionate for F1 ,cricket and football,Man Utd fan,love horses and speed, love to travel and meet new people, Ferrari fan,Charles Leclerc supporter.Polo player', url='https://t.co/TABIXKyI88', entities={'url': {'urls': [{'url': 'https://t.co/TABIXKyI88', 'expanded_url': 'https://nikhilkumarf1.wordpress.com', 'display_url': 'nikhilkumarf1.wordpress.com', 'indices': [0, 23]}]}, 'description': {'urls': []}}, protected=False, followers_count=37, friends_count=1473, listed_count=1, created_at=datetime.datetime(2017, 5, 29, 10, 46, 14), favourites_count=662, utc_offset=None, time_zone=None, geo_enabled=True, verified=False, statuses_count=577, lang=None, contributors_enabled=False, is_translator=False, is_translation_enabled=False, profile_background_color='F5F8FA', profile_background_image_url=None, profile_background_image_url_https=None, profile_background_tile=False, profile_image_url='http://pbs.twimg.com/profile_images/1289768115782299648/p56DCO06_normal.jpg', profile_image_url_https='https://pbs.twimg.com/profile_images/1289768115782299648/p56DCO06_normal.jpg', profile_link_color='1DA1F2', profile_sidebar_border_color='C0DEED', profile_sidebar_fill_color='DDEEF6', profile_text_color='333333', profile_use_background_image=True, has_extended_profile=False, default_profile=True, default_profile_image=False, following=False, follow_request_sent=False, notifications=False, translator_type='none'), geo=None, coordinates=None, place=None, contributors=None, is_quote_status=False, retweet_count=0, favorite_count=2, favorited=False, retweeted=False, lang='en') \n",
      "\n",
      ".....................................\n",
      "\n",
      "Status(_api=<tweepy.api.API object at 0x00000245AB624160>, _json={'created_at': 'Thu Oct 29 17:03:59 +0000 2020', 'id': 1321860344273235974, 'id_str': '1321860344273235974', 'full_text': 'The key to winning ipl matches. Score about 9-10 from overs 6-14 as the batting side . Easier said than done. MI win their matches because of it. RCB have the lowest scoring rate in those overs.Even today csk scored 77/2 as compared to kkr’s 49/3.The risk needs to be taken to win', 'truncated': False, 'display_text_range': [0, 280], 'entities': {'hashtags': [], 'symbols': [], 'user_mentions': [], 'urls': []}, 'metadata': {'iso_language_code': 'en', 'result_type': 'recent'}, 'source': '<a href=\"http://twitter.com/download/iphone\" rel=\"nofollow\">Twitter for iPhone</a>', 'in_reply_to_status_id': None, 'in_reply_to_status_id_str': None, 'in_reply_to_user_id': None, 'in_reply_to_user_id_str': None, 'in_reply_to_screen_name': None, 'user': {'id': 869142833046880256, 'id_str': '869142833046880256', 'name': 'Nikhil k', 'screen_name': 'Nikhilk_2001', 'location': 'The mysterious land of india', 'description': 'passionate for F1 ,cricket and football,Man Utd fan,love horses and speed, love to travel and meet new people, Ferrari fan,Charles Leclerc supporter.Polo player', 'url': 'https://t.co/TABIXKyI88', 'entities': {'url': {'urls': [{'url': 'https://t.co/TABIXKyI88', 'expanded_url': 'https://nikhilkumarf1.wordpress.com', 'display_url': 'nikhilkumarf1.wordpress.com', 'indices': [0, 23]}]}, 'description': {'urls': []}}, 'protected': False, 'followers_count': 37, 'friends_count': 1473, 'listed_count': 1, 'created_at': 'Mon May 29 10:46:14 +0000 2017', 'favourites_count': 662, 'utc_offset': None, 'time_zone': None, 'geo_enabled': True, 'verified': False, 'statuses_count': 577, 'lang': None, 'contributors_enabled': False, 'is_translator': False, 'is_translation_enabled': False, 'profile_background_color': 'F5F8FA', 'profile_background_image_url': None, 'profile_background_image_url_https': None, 'profile_background_tile': False, 'profile_image_url': 'http://pbs.twimg.com/profile_images/1289768115782299648/p56DCO06_normal.jpg', 'profile_image_url_https': 'https://pbs.twimg.com/profile_images/1289768115782299648/p56DCO06_normal.jpg', 'profile_link_color': '1DA1F2', 'profile_sidebar_border_color': 'C0DEED', 'profile_sidebar_fill_color': 'DDEEF6', 'profile_text_color': '333333', 'profile_use_background_image': True, 'has_extended_profile': False, 'default_profile': True, 'default_profile_image': False, 'following': False, 'follow_request_sent': False, 'notifications': False, 'translator_type': 'none'}, 'geo': None, 'coordinates': None, 'place': None, 'contributors': None, 'is_quote_status': False, 'retweet_count': 0, 'favorite_count': 0, 'favorited': False, 'retweeted': False, 'lang': 'en'}, created_at=datetime.datetime(2020, 10, 29, 17, 3, 59), id=1321860344273235974, id_str='1321860344273235974', full_text='The key to winning ipl matches. Score about 9-10 from overs 6-14 as the batting side . Easier said than done. MI win their matches because of it. RCB have the lowest scoring rate in those overs.Even today csk scored 77/2 as compared to kkr’s 49/3.The risk needs to be taken to win', truncated=False, display_text_range=[0, 280], entities={'hashtags': [], 'symbols': [], 'user_mentions': [], 'urls': []}, metadata={'iso_language_code': 'en', 'result_type': 'recent'}, source='Twitter for iPhone', source_url='http://twitter.com/download/iphone', in_reply_to_status_id=None, in_reply_to_status_id_str=None, in_reply_to_user_id=None, in_reply_to_user_id_str=None, in_reply_to_screen_name=None, author=User(_api=<tweepy.api.API object at 0x00000245AB624160>, _json={'id': 869142833046880256, 'id_str': '869142833046880256', 'name': 'Nikhil k', 'screen_name': 'Nikhilk_2001', 'location': 'The mysterious land of india', 'description': 'passionate for F1 ,cricket and football,Man Utd fan,love horses and speed, love to travel and meet new people, Ferrari fan,Charles Leclerc supporter.Polo player', 'url': 'https://t.co/TABIXKyI88', 'entities': {'url': {'urls': [{'url': 'https://t.co/TABIXKyI88', 'expanded_url': 'https://nikhilkumarf1.wordpress.com', 'display_url': 'nikhilkumarf1.wordpress.com', 'indices': [0, 23]}]}, 'description': {'urls': []}}, 'protected': False, 'followers_count': 37, 'friends_count': 1473, 'listed_count': 1, 'created_at': 'Mon May 29 10:46:14 +0000 2017', 'favourites_count': 662, 'utc_offset': None, 'time_zone': None, 'geo_enabled': True, 'verified': False, 'statuses_count': 577, 'lang': None, 'contributors_enabled': False, 'is_translator': False, 'is_translation_enabled': False, 'profile_background_color': 'F5F8FA', 'profile_background_image_url': None, 'profile_background_image_url_https': None, 'profile_background_tile': False, 'profile_image_url': 'http://pbs.twimg.com/profile_images/1289768115782299648/p56DCO06_normal.jpg', 'profile_image_url_https': 'https://pbs.twimg.com/profile_images/1289768115782299648/p56DCO06_normal.jpg', 'profile_link_color': '1DA1F2', 'profile_sidebar_border_color': 'C0DEED', 'profile_sidebar_fill_color': 'DDEEF6', 'profile_text_color': '333333', 'profile_use_background_image': True, 'has_extended_profile': False, 'default_profile': True, 'default_profile_image': False, 'following': False, 'follow_request_sent': False, 'notifications': False, 'translator_type': 'none'}, id=869142833046880256, id_str='869142833046880256', name='Nikhil k', screen_name='Nikhilk_2001', location='The mysterious land of india', description='passionate for F1 ,cricket and football,Man Utd fan,love horses and speed, love to travel and meet new people, Ferrari fan,Charles Leclerc supporter.Polo player', url='https://t.co/TABIXKyI88', entities={'url': {'urls': [{'url': 'https://t.co/TABIXKyI88', 'expanded_url': 'https://nikhilkumarf1.wordpress.com', 'display_url': 'nikhilkumarf1.wordpress.com', 'indices': [0, 23]}]}, 'description': {'urls': []}}, protected=False, followers_count=37, friends_count=1473, listed_count=1, created_at=datetime.datetime(2017, 5, 29, 10, 46, 14), favourites_count=662, utc_offset=None, time_zone=None, geo_enabled=True, verified=False, statuses_count=577, lang=None, contributors_enabled=False, is_translator=False, is_translation_enabled=False, profile_background_color='F5F8FA', profile_background_image_url=None, profile_background_image_url_https=None, profile_background_tile=False, profile_image_url='http://pbs.twimg.com/profile_images/1289768115782299648/p56DCO06_normal.jpg', profile_image_url_https='https://pbs.twimg.com/profile_images/1289768115782299648/p56DCO06_normal.jpg', profile_link_color='1DA1F2', profile_sidebar_border_color='C0DEED', profile_sidebar_fill_color='DDEEF6', profile_text_color='333333', profile_use_background_image=True, has_extended_profile=False, default_profile=True, default_profile_image=False, following=False, follow_request_sent=False, notifications=False, translator_type='none'), user=User(_api=<tweepy.api.API object at 0x00000245AB624160>, _json={'id': 869142833046880256, 'id_str': '869142833046880256', 'name': 'Nikhil k', 'screen_name': 'Nikhilk_2001', 'location': 'The mysterious land of india', 'description': 'passionate for F1 ,cricket and football,Man Utd fan,love horses and speed, love to travel and meet new people, Ferrari fan,Charles Leclerc supporter.Polo player', 'url': 'https://t.co/TABIXKyI88', 'entities': {'url': {'urls': [{'url': 'https://t.co/TABIXKyI88', 'expanded_url': 'https://nikhilkumarf1.wordpress.com', 'display_url': 'nikhilkumarf1.wordpress.com', 'indices': [0, 23]}]}, 'description': {'urls': []}}, 'protected': False, 'followers_count': 37, 'friends_count': 1473, 'listed_count': 1, 'created_at': 'Mon May 29 10:46:14 +0000 2017', 'favourites_count': 662, 'utc_offset': None, 'time_zone': None, 'geo_enabled': True, 'verified': False, 'statuses_count': 577, 'lang': None, 'contributors_enabled': False, 'is_translator': False, 'is_translation_enabled': False, 'profile_background_color': 'F5F8FA', 'profile_background_image_url': None, 'profile_background_image_url_https': None, 'profile_background_tile': False, 'profile_image_url': 'http://pbs.twimg.com/profile_images/1289768115782299648/p56DCO06_normal.jpg', 'profile_image_url_https': 'https://pbs.twimg.com/profile_images/1289768115782299648/p56DCO06_normal.jpg', 'profile_link_color': '1DA1F2', 'profile_sidebar_border_color': 'C0DEED', 'profile_sidebar_fill_color': 'DDEEF6', 'profile_text_color': '333333', 'profile_use_background_image': True, 'has_extended_profile': False, 'default_profile': True, 'default_profile_image': False, 'following': False, 'follow_request_sent': False, 'notifications': False, 'translator_type': 'none'}, id=869142833046880256, id_str='869142833046880256', name='Nikhil k', screen_name='Nikhilk_2001', location='The mysterious land of india', description='passionate for F1 ,cricket and football,Man Utd fan,love horses and speed, love to travel and meet new people, Ferrari fan,Charles Leclerc supporter.Polo player', url='https://t.co/TABIXKyI88', entities={'url': {'urls': [{'url': 'https://t.co/TABIXKyI88', 'expanded_url': 'https://nikhilkumarf1.wordpress.com', 'display_url': 'nikhilkumarf1.wordpress.com', 'indices': [0, 23]}]}, 'description': {'urls': []}}, protected=False, followers_count=37, friends_count=1473, listed_count=1, created_at=datetime.datetime(2017, 5, 29, 10, 46, 14), favourites_count=662, utc_offset=None, time_zone=None, geo_enabled=True, verified=False, statuses_count=577, lang=None, contributors_enabled=False, is_translator=False, is_translation_enabled=False, profile_background_color='F5F8FA', profile_background_image_url=None, profile_background_image_url_https=None, profile_background_tile=False, profile_image_url='http://pbs.twimg.com/profile_images/1289768115782299648/p56DCO06_normal.jpg', profile_image_url_https='https://pbs.twimg.com/profile_images/1289768115782299648/p56DCO06_normal.jpg', profile_link_color='1DA1F2', profile_sidebar_border_color='C0DEED', profile_sidebar_fill_color='DDEEF6', profile_text_color='333333', profile_use_background_image=True, has_extended_profile=False, default_profile=True, default_profile_image=False, following=False, follow_request_sent=False, notifications=False, translator_type='none'), geo=None, coordinates=None, place=None, contributors=None, is_quote_status=False, retweet_count=0, favorite_count=0, favorited=False, retweeted=False, lang='en') \n",
      "\n",
      ".....................................\n",
      "\n",
      "Status(_api=<tweepy.api.API object at 0x00000245AB624160>, _json={'created_at': 'Thu Oct 29 17:01:08 +0000 2020', 'id': 1321859625906434048, 'id_str': '1321859625906434048', 'full_text': 'tooo bad now that rcb is kinda winning , all the RCB Kohli troll tweets hav gone down. 😶 #IPL', 'truncated': False, 'display_text_range': [0, 93], 'entities': {'hashtags': [{'text': 'IPL', 'indices': [89, 93]}], 'symbols': [], 'user_mentions': [], 'urls': []}, 'metadata': {'iso_language_code': 'en', 'result_type': 'recent'}, 'source': '<a href=\"http://twitter.com/download/iphone\" rel=\"nofollow\">Twitter for iPhone</a>', 'in_reply_to_status_id': None, 'in_reply_to_status_id_str': None, 'in_reply_to_user_id': None, 'in_reply_to_user_id_str': None, 'in_reply_to_screen_name': None, 'user': {'id': 1246867225023143937, 'id_str': '1246867225023143937', 'name': 'rollsgotrollin', 'screen_name': 'rollsgotrollin', 'location': 'Pune ', 'description': '', 'url': None, 'entities': {'description': {'urls': []}}, 'protected': False, 'followers_count': 7, 'friends_count': 52, 'listed_count': 0, 'created_at': 'Sun Apr 05 18:28:19 +0000 2020', 'favourites_count': 444, 'utc_offset': None, 'time_zone': None, 'geo_enabled': False, 'verified': False, 'statuses_count': 121, 'lang': None, 'contributors_enabled': False, 'is_translator': False, 'is_translation_enabled': False, 'profile_background_color': 'F5F8FA', 'profile_background_image_url': None, 'profile_background_image_url_https': None, 'profile_background_tile': False, 'profile_image_url': 'http://pbs.twimg.com/profile_images/1313791217625309196/rAv5CVfV_normal.jpg', 'profile_image_url_https': 'https://pbs.twimg.com/profile_images/1313791217625309196/rAv5CVfV_normal.jpg', 'profile_banner_url': 'https://pbs.twimg.com/profile_banners/1246867225023143937/1602187117', 'profile_link_color': '1DA1F2', 'profile_sidebar_border_color': 'C0DEED', 'profile_sidebar_fill_color': 'DDEEF6', 'profile_text_color': '333333', 'profile_use_background_image': True, 'has_extended_profile': True, 'default_profile': True, 'default_profile_image': False, 'following': False, 'follow_request_sent': False, 'notifications': False, 'translator_type': 'none'}, 'geo': None, 'coordinates': None, 'place': None, 'contributors': None, 'is_quote_status': False, 'retweet_count': 0, 'favorite_count': 0, 'favorited': False, 'retweeted': False, 'lang': 'en'}, created_at=datetime.datetime(2020, 10, 29, 17, 1, 8), id=1321859625906434048, id_str='1321859625906434048', full_text='tooo bad now that rcb is kinda winning , all the RCB Kohli troll tweets hav gone down. 😶 #IPL', truncated=False, display_text_range=[0, 93], entities={'hashtags': [{'text': 'IPL', 'indices': [89, 93]}], 'symbols': [], 'user_mentions': [], 'urls': []}, metadata={'iso_language_code': 'en', 'result_type': 'recent'}, source='Twitter for iPhone', source_url='http://twitter.com/download/iphone', in_reply_to_status_id=None, in_reply_to_status_id_str=None, in_reply_to_user_id=None, in_reply_to_user_id_str=None, in_reply_to_screen_name=None, author=User(_api=<tweepy.api.API object at 0x00000245AB624160>, _json={'id': 1246867225023143937, 'id_str': '1246867225023143937', 'name': 'rollsgotrollin', 'screen_name': 'rollsgotrollin', 'location': 'Pune ', 'description': '', 'url': None, 'entities': {'description': {'urls': []}}, 'protected': False, 'followers_count': 7, 'friends_count': 52, 'listed_count': 0, 'created_at': 'Sun Apr 05 18:28:19 +0000 2020', 'favourites_count': 444, 'utc_offset': None, 'time_zone': None, 'geo_enabled': False, 'verified': False, 'statuses_count': 121, 'lang': None, 'contributors_enabled': False, 'is_translator': False, 'is_translation_enabled': False, 'profile_background_color': 'F5F8FA', 'profile_background_image_url': None, 'profile_background_image_url_https': None, 'profile_background_tile': False, 'profile_image_url': 'http://pbs.twimg.com/profile_images/1313791217625309196/rAv5CVfV_normal.jpg', 'profile_image_url_https': 'https://pbs.twimg.com/profile_images/1313791217625309196/rAv5CVfV_normal.jpg', 'profile_banner_url': 'https://pbs.twimg.com/profile_banners/1246867225023143937/1602187117', 'profile_link_color': '1DA1F2', 'profile_sidebar_border_color': 'C0DEED', 'profile_sidebar_fill_color': 'DDEEF6', 'profile_text_color': '333333', 'profile_use_background_image': True, 'has_extended_profile': True, 'default_profile': True, 'default_profile_image': False, 'following': False, 'follow_request_sent': False, 'notifications': False, 'translator_type': 'none'}, id=1246867225023143937, id_str='1246867225023143937', name='rollsgotrollin', screen_name='rollsgotrollin', location='Pune ', description='', url=None, entities={'description': {'urls': []}}, protected=False, followers_count=7, friends_count=52, listed_count=0, created_at=datetime.datetime(2020, 4, 5, 18, 28, 19), favourites_count=444, utc_offset=None, time_zone=None, geo_enabled=False, verified=False, statuses_count=121, lang=None, contributors_enabled=False, is_translator=False, is_translation_enabled=False, profile_background_color='F5F8FA', profile_background_image_url=None, profile_background_image_url_https=None, profile_background_tile=False, profile_image_url='http://pbs.twimg.com/profile_images/1313791217625309196/rAv5CVfV_normal.jpg', profile_image_url_https='https://pbs.twimg.com/profile_images/1313791217625309196/rAv5CVfV_normal.jpg', profile_banner_url='https://pbs.twimg.com/profile_banners/1246867225023143937/1602187117', profile_link_color='1DA1F2', profile_sidebar_border_color='C0DEED', profile_sidebar_fill_color='DDEEF6', profile_text_color='333333', profile_use_background_image=True, has_extended_profile=True, default_profile=True, default_profile_image=False, following=False, follow_request_sent=False, notifications=False, translator_type='none'), user=User(_api=<tweepy.api.API object at 0x00000245AB624160>, _json={'id': 1246867225023143937, 'id_str': '1246867225023143937', 'name': 'rollsgotrollin', 'screen_name': 'rollsgotrollin', 'location': 'Pune ', 'description': '', 'url': None, 'entities': {'description': {'urls': []}}, 'protected': False, 'followers_count': 7, 'friends_count': 52, 'listed_count': 0, 'created_at': 'Sun Apr 05 18:28:19 +0000 2020', 'favourites_count': 444, 'utc_offset': None, 'time_zone': None, 'geo_enabled': False, 'verified': False, 'statuses_count': 121, 'lang': None, 'contributors_enabled': False, 'is_translator': False, 'is_translation_enabled': False, 'profile_background_color': 'F5F8FA', 'profile_background_image_url': None, 'profile_background_image_url_https': None, 'profile_background_tile': False, 'profile_image_url': 'http://pbs.twimg.com/profile_images/1313791217625309196/rAv5CVfV_normal.jpg', 'profile_image_url_https': 'https://pbs.twimg.com/profile_images/1313791217625309196/rAv5CVfV_normal.jpg', 'profile_banner_url': 'https://pbs.twimg.com/profile_banners/1246867225023143937/1602187117', 'profile_link_color': '1DA1F2', 'profile_sidebar_border_color': 'C0DEED', 'profile_sidebar_fill_color': 'DDEEF6', 'profile_text_color': '333333', 'profile_use_background_image': True, 'has_extended_profile': True, 'default_profile': True, 'default_profile_image': False, 'following': False, 'follow_request_sent': False, 'notifications': False, 'translator_type': 'none'}, id=1246867225023143937, id_str='1246867225023143937', name='rollsgotrollin', screen_name='rollsgotrollin', location='Pune ', description='', url=None, entities={'description': {'urls': []}}, protected=False, followers_count=7, friends_count=52, listed_count=0, created_at=datetime.datetime(2020, 4, 5, 18, 28, 19), favourites_count=444, utc_offset=None, time_zone=None, geo_enabled=False, verified=False, statuses_count=121, lang=None, contributors_enabled=False, is_translator=False, is_translation_enabled=False, profile_background_color='F5F8FA', profile_background_image_url=None, profile_background_image_url_https=None, profile_background_tile=False, profile_image_url='http://pbs.twimg.com/profile_images/1313791217625309196/rAv5CVfV_normal.jpg', profile_image_url_https='https://pbs.twimg.com/profile_images/1313791217625309196/rAv5CVfV_normal.jpg', profile_banner_url='https://pbs.twimg.com/profile_banners/1246867225023143937/1602187117', profile_link_color='1DA1F2', profile_sidebar_border_color='C0DEED', profile_sidebar_fill_color='DDEEF6', profile_text_color='333333', profile_use_background_image=True, has_extended_profile=True, default_profile=True, default_profile_image=False, following=False, follow_request_sent=False, notifications=False, translator_type='none'), geo=None, coordinates=None, place=None, contributors=None, is_quote_status=False, retweet_count=0, favorite_count=0, favorited=False, retweeted=False, lang='en') \n",
      "\n",
      ".....................................\n",
      "\n",
      "Status(_api=<tweepy.api.API object at 0x00000245AB624160>, _json={'created_at': 'Thu Oct 29 16:45:32 +0000 2020', 'id': 1321855698263633920, 'id_str': '1321855698263633920', 'full_text': \"&lt;3/3&gt;\\nKohli has hardly anything to show as a captain. #RCB would have long got rid of him as a captain due to past performances if he wasn't a brand that he is thereby attracting sponsors. An IPL is more about franchise's profit and loss than winning the tournament.\", 'truncated': False, 'display_text_range': [0, 272], 'entities': {'hashtags': [{'text': 'RCB', 'indices': [60, 64]}], 'symbols': [], 'user_mentions': [], 'urls': []}, 'metadata': {'iso_language_code': 'en', 'result_type': 'recent'}, 'source': '<a href=\"http://twitter.com/download/android\" rel=\"nofollow\">Twitter for Android</a>', 'in_reply_to_status_id': 1321855501181743104, 'in_reply_to_status_id_str': '1321855501181743104', 'in_reply_to_user_id': 2782696033, 'in_reply_to_user_id_str': '2782696033', 'in_reply_to_screen_name': 'prabhusaurabh91', 'user': {'id': 2782696033, 'id_str': '2782696033', 'name': 'Saurabh Prabhu', 'screen_name': 'prabhusaurabh91', 'location': 'Mumbai', 'description': 'Stock Market. Cricket. F1 Enthusiast. Private Equity Professional . Ex- Crisil.', 'url': 'https://t.co/MlZX1KXCNc', 'entities': {'url': {'urls': [{'url': 'https://t.co/MlZX1KXCNc', 'expanded_url': 'http://justanotherinvestor.com/', 'display_url': 'justanotherinvestor.com', 'indices': [0, 23]}]}, 'description': {'urls': []}}, 'protected': False, 'followers_count': 4026, 'friends_count': 1664, 'listed_count': 59, 'created_at': 'Sun Aug 31 17:34:54 +0000 2014', 'favourites_count': 2963, 'utc_offset': None, 'time_zone': None, 'geo_enabled': True, 'verified': False, 'statuses_count': 8170, 'lang': None, 'contributors_enabled': False, 'is_translator': False, 'is_translation_enabled': False, 'profile_background_color': 'C0DEED', 'profile_background_image_url': 'http://abs.twimg.com/images/themes/theme1/bg.png', 'profile_background_image_url_https': 'https://abs.twimg.com/images/themes/theme1/bg.png', 'profile_background_tile': False, 'profile_image_url': 'http://pbs.twimg.com/profile_images/1248186065539620865/IlvFBkRT_normal.jpg', 'profile_image_url_https': 'https://pbs.twimg.com/profile_images/1248186065539620865/IlvFBkRT_normal.jpg', 'profile_link_color': '1DA1F2', 'profile_sidebar_border_color': 'C0DEED', 'profile_sidebar_fill_color': 'DDEEF6', 'profile_text_color': '333333', 'profile_use_background_image': True, 'has_extended_profile': True, 'default_profile': True, 'default_profile_image': False, 'following': False, 'follow_request_sent': False, 'notifications': False, 'translator_type': 'none'}, 'geo': None, 'coordinates': None, 'place': None, 'contributors': None, 'is_quote_status': False, 'retweet_count': 2, 'favorite_count': 7, 'favorited': False, 'retweeted': False, 'lang': 'en'}, created_at=datetime.datetime(2020, 10, 29, 16, 45, 32), id=1321855698263633920, id_str='1321855698263633920', full_text=\"&lt;3/3&gt;\\nKohli has hardly anything to show as a captain. #RCB would have long got rid of him as a captain due to past performances if he wasn't a brand that he is thereby attracting sponsors. An IPL is more about franchise's profit and loss than winning the tournament.\", truncated=False, display_text_range=[0, 272], entities={'hashtags': [{'text': 'RCB', 'indices': [60, 64]}], 'symbols': [], 'user_mentions': [], 'urls': []}, metadata={'iso_language_code': 'en', 'result_type': 'recent'}, source='Twitter for Android', source_url='http://twitter.com/download/android', in_reply_to_status_id=1321855501181743104, in_reply_to_status_id_str='1321855501181743104', in_reply_to_user_id=2782696033, in_reply_to_user_id_str='2782696033', in_reply_to_screen_name='prabhusaurabh91', author=User(_api=<tweepy.api.API object at 0x00000245AB624160>, _json={'id': 2782696033, 'id_str': '2782696033', 'name': 'Saurabh Prabhu', 'screen_name': 'prabhusaurabh91', 'location': 'Mumbai', 'description': 'Stock Market. Cricket. F1 Enthusiast. Private Equity Professional . Ex- Crisil.', 'url': 'https://t.co/MlZX1KXCNc', 'entities': {'url': {'urls': [{'url': 'https://t.co/MlZX1KXCNc', 'expanded_url': 'http://justanotherinvestor.com/', 'display_url': 'justanotherinvestor.com', 'indices': [0, 23]}]}, 'description': {'urls': []}}, 'protected': False, 'followers_count': 4026, 'friends_count': 1664, 'listed_count': 59, 'created_at': 'Sun Aug 31 17:34:54 +0000 2014', 'favourites_count': 2963, 'utc_offset': None, 'time_zone': None, 'geo_enabled': True, 'verified': False, 'statuses_count': 8170, 'lang': None, 'contributors_enabled': False, 'is_translator': False, 'is_translation_enabled': False, 'profile_background_color': 'C0DEED', 'profile_background_image_url': 'http://abs.twimg.com/images/themes/theme1/bg.png', 'profile_background_image_url_https': 'https://abs.twimg.com/images/themes/theme1/bg.png', 'profile_background_tile': False, 'profile_image_url': 'http://pbs.twimg.com/profile_images/1248186065539620865/IlvFBkRT_normal.jpg', 'profile_image_url_https': 'https://pbs.twimg.com/profile_images/1248186065539620865/IlvFBkRT_normal.jpg', 'profile_link_color': '1DA1F2', 'profile_sidebar_border_color': 'C0DEED', 'profile_sidebar_fill_color': 'DDEEF6', 'profile_text_color': '333333', 'profile_use_background_image': True, 'has_extended_profile': True, 'default_profile': True, 'default_profile_image': False, 'following': False, 'follow_request_sent': False, 'notifications': False, 'translator_type': 'none'}, id=2782696033, id_str='2782696033', name='Saurabh Prabhu', screen_name='prabhusaurabh91', location='Mumbai', description='Stock Market. Cricket. F1 Enthusiast. Private Equity Professional . Ex- Crisil.', url='https://t.co/MlZX1KXCNc', entities={'url': {'urls': [{'url': 'https://t.co/MlZX1KXCNc', 'expanded_url': 'http://justanotherinvestor.com/', 'display_url': 'justanotherinvestor.com', 'indices': [0, 23]}]}, 'description': {'urls': []}}, protected=False, followers_count=4026, friends_count=1664, listed_count=59, created_at=datetime.datetime(2014, 8, 31, 17, 34, 54), favourites_count=2963, utc_offset=None, time_zone=None, geo_enabled=True, verified=False, statuses_count=8170, lang=None, contributors_enabled=False, is_translator=False, is_translation_enabled=False, profile_background_color='C0DEED', profile_background_image_url='http://abs.twimg.com/images/themes/theme1/bg.png', profile_background_image_url_https='https://abs.twimg.com/images/themes/theme1/bg.png', profile_background_tile=False, profile_image_url='http://pbs.twimg.com/profile_images/1248186065539620865/IlvFBkRT_normal.jpg', profile_image_url_https='https://pbs.twimg.com/profile_images/1248186065539620865/IlvFBkRT_normal.jpg', profile_link_color='1DA1F2', profile_sidebar_border_color='C0DEED', profile_sidebar_fill_color='DDEEF6', profile_text_color='333333', profile_use_background_image=True, has_extended_profile=True, default_profile=True, default_profile_image=False, following=False, follow_request_sent=False, notifications=False, translator_type='none'), user=User(_api=<tweepy.api.API object at 0x00000245AB624160>, _json={'id': 2782696033, 'id_str': '2782696033', 'name': 'Saurabh Prabhu', 'screen_name': 'prabhusaurabh91', 'location': 'Mumbai', 'description': 'Stock Market. Cricket. F1 Enthusiast. Private Equity Professional . Ex- Crisil.', 'url': 'https://t.co/MlZX1KXCNc', 'entities': {'url': {'urls': [{'url': 'https://t.co/MlZX1KXCNc', 'expanded_url': 'http://justanotherinvestor.com/', 'display_url': 'justanotherinvestor.com', 'indices': [0, 23]}]}, 'description': {'urls': []}}, 'protected': False, 'followers_count': 4026, 'friends_count': 1664, 'listed_count': 59, 'created_at': 'Sun Aug 31 17:34:54 +0000 2014', 'favourites_count': 2963, 'utc_offset': None, 'time_zone': None, 'geo_enabled': True, 'verified': False, 'statuses_count': 8170, 'lang': None, 'contributors_enabled': False, 'is_translator': False, 'is_translation_enabled': False, 'profile_background_color': 'C0DEED', 'profile_background_image_url': 'http://abs.twimg.com/images/themes/theme1/bg.png', 'profile_background_image_url_https': 'https://abs.twimg.com/images/themes/theme1/bg.png', 'profile_background_tile': False, 'profile_image_url': 'http://pbs.twimg.com/profile_images/1248186065539620865/IlvFBkRT_normal.jpg', 'profile_image_url_https': 'https://pbs.twimg.com/profile_images/1248186065539620865/IlvFBkRT_normal.jpg', 'profile_link_color': '1DA1F2', 'profile_sidebar_border_color': 'C0DEED', 'profile_sidebar_fill_color': 'DDEEF6', 'profile_text_color': '333333', 'profile_use_background_image': True, 'has_extended_profile': True, 'default_profile': True, 'default_profile_image': False, 'following': False, 'follow_request_sent': False, 'notifications': False, 'translator_type': 'none'}, id=2782696033, id_str='2782696033', name='Saurabh Prabhu', screen_name='prabhusaurabh91', location='Mumbai', description='Stock Market. Cricket. F1 Enthusiast. Private Equity Professional . Ex- Crisil.', url='https://t.co/MlZX1KXCNc', entities={'url': {'urls': [{'url': 'https://t.co/MlZX1KXCNc', 'expanded_url': 'http://justanotherinvestor.com/', 'display_url': 'justanotherinvestor.com', 'indices': [0, 23]}]}, 'description': {'urls': []}}, protected=False, followers_count=4026, friends_count=1664, listed_count=59, created_at=datetime.datetime(2014, 8, 31, 17, 34, 54), favourites_count=2963, utc_offset=None, time_zone=None, geo_enabled=True, verified=False, statuses_count=8170, lang=None, contributors_enabled=False, is_translator=False, is_translation_enabled=False, profile_background_color='C0DEED', profile_background_image_url='http://abs.twimg.com/images/themes/theme1/bg.png', profile_background_image_url_https='https://abs.twimg.com/images/themes/theme1/bg.png', profile_background_tile=False, profile_image_url='http://pbs.twimg.com/profile_images/1248186065539620865/IlvFBkRT_normal.jpg', profile_image_url_https='https://pbs.twimg.com/profile_images/1248186065539620865/IlvFBkRT_normal.jpg', profile_link_color='1DA1F2', profile_sidebar_border_color='C0DEED', profile_sidebar_fill_color='DDEEF6', profile_text_color='333333', profile_use_background_image=True, has_extended_profile=True, default_profile=True, default_profile_image=False, following=False, follow_request_sent=False, notifications=False, translator_type='none'), geo=None, coordinates=None, place=None, contributors=None, is_quote_status=False, retweet_count=2, favorite_count=7, favorited=False, retweeted=False, lang='en') \n",
      "\n",
      ".....................................\n",
      "\n",
      "Status(_api=<tweepy.api.API object at 0x00000245AB624160>, _json={'created_at': 'Thu Oct 29 16:20:16 +0000 2020', 'id': 1321849340227284992, 'id_str': '1321849340227284992', 'full_text': 'Why rcb is not winning the IPL cup what is the reason of the rcb not winning#staraikelungal', 'truncated': False, 'display_text_range': [0, 91], 'entities': {'hashtags': [], 'symbols': [], 'user_mentions': [], 'urls': []}, 'metadata': {'iso_language_code': 'en', 'result_type': 'recent'}, 'source': '<a href=\"http://twitter.com/download/android\" rel=\"nofollow\">Twitter for Android</a>', 'in_reply_to_status_id': None, 'in_reply_to_status_id_str': None, 'in_reply_to_user_id': None, 'in_reply_to_user_id_str': None, 'in_reply_to_screen_name': None, 'user': {'id': 1321848070162710529, 'id_str': '1321848070162710529', 'name': 'Ritayu Ahamed', 'screen_name': 'RitayuAhamed', 'location': '', 'description': '', 'url': None, 'entities': {'description': {'urls': []}}, 'protected': False, 'followers_count': 0, 'friends_count': 0, 'listed_count': 0, 'created_at': 'Thu Oct 29 16:15:32 +0000 2020', 'favourites_count': 0, 'utc_offset': None, 'time_zone': None, 'geo_enabled': True, 'verified': False, 'statuses_count': 16, 'lang': None, 'contributors_enabled': False, 'is_translator': False, 'is_translation_enabled': False, 'profile_background_color': 'F5F8FA', 'profile_background_image_url': None, 'profile_background_image_url_https': None, 'profile_background_tile': False, 'profile_image_url': 'http://pbs.twimg.com/profile_images/1321848414301114368/eJQ1U-Gf_normal.jpg', 'profile_image_url_https': 'https://pbs.twimg.com/profile_images/1321848414301114368/eJQ1U-Gf_normal.jpg', 'profile_link_color': '1DA1F2', 'profile_sidebar_border_color': 'C0DEED', 'profile_sidebar_fill_color': 'DDEEF6', 'profile_text_color': '333333', 'profile_use_background_image': True, 'has_extended_profile': True, 'default_profile': True, 'default_profile_image': False, 'following': False, 'follow_request_sent': False, 'notifications': False, 'translator_type': 'none'}, 'geo': None, 'coordinates': None, 'place': {'id': '2b276b370b6ada83', 'url': 'https://api.twitter.com/1.1/geo/id/2b276b370b6ada83.json', 'place_type': 'city', 'name': 'Papanasam', 'full_name': 'Papanasam, India', 'country_code': 'IN', 'country': 'India', 'contained_within': [], 'bounding_box': {'type': 'Polygon', 'coordinates': [[[79.230492, 10.910976], [79.289902, 10.910976], [79.289902, 10.933342], [79.230492, 10.933342]]]}, 'attributes': {}}, 'contributors': None, 'is_quote_status': False, 'retweet_count': 0, 'favorite_count': 0, 'favorited': False, 'retweeted': False, 'lang': 'en'}, created_at=datetime.datetime(2020, 10, 29, 16, 20, 16), id=1321849340227284992, id_str='1321849340227284992', full_text='Why rcb is not winning the IPL cup what is the reason of the rcb not winning#staraikelungal', truncated=False, display_text_range=[0, 91], entities={'hashtags': [], 'symbols': [], 'user_mentions': [], 'urls': []}, metadata={'iso_language_code': 'en', 'result_type': 'recent'}, source='Twitter for Android', source_url='http://twitter.com/download/android', in_reply_to_status_id=None, in_reply_to_status_id_str=None, in_reply_to_user_id=None, in_reply_to_user_id_str=None, in_reply_to_screen_name=None, author=User(_api=<tweepy.api.API object at 0x00000245AB624160>, _json={'id': 1321848070162710529, 'id_str': '1321848070162710529', 'name': 'Ritayu Ahamed', 'screen_name': 'RitayuAhamed', 'location': '', 'description': '', 'url': None, 'entities': {'description': {'urls': []}}, 'protected': False, 'followers_count': 0, 'friends_count': 0, 'listed_count': 0, 'created_at': 'Thu Oct 29 16:15:32 +0000 2020', 'favourites_count': 0, 'utc_offset': None, 'time_zone': None, 'geo_enabled': True, 'verified': False, 'statuses_count': 16, 'lang': None, 'contributors_enabled': False, 'is_translator': False, 'is_translation_enabled': False, 'profile_background_color': 'F5F8FA', 'profile_background_image_url': None, 'profile_background_image_url_https': None, 'profile_background_tile': False, 'profile_image_url': 'http://pbs.twimg.com/profile_images/1321848414301114368/eJQ1U-Gf_normal.jpg', 'profile_image_url_https': 'https://pbs.twimg.com/profile_images/1321848414301114368/eJQ1U-Gf_normal.jpg', 'profile_link_color': '1DA1F2', 'profile_sidebar_border_color': 'C0DEED', 'profile_sidebar_fill_color': 'DDEEF6', 'profile_text_color': '333333', 'profile_use_background_image': True, 'has_extended_profile': True, 'default_profile': True, 'default_profile_image': False, 'following': False, 'follow_request_sent': False, 'notifications': False, 'translator_type': 'none'}, id=1321848070162710529, id_str='1321848070162710529', name='Ritayu Ahamed', screen_name='RitayuAhamed', location='', description='', url=None, entities={'description': {'urls': []}}, protected=False, followers_count=0, friends_count=0, listed_count=0, created_at=datetime.datetime(2020, 10, 29, 16, 15, 32), favourites_count=0, utc_offset=None, time_zone=None, geo_enabled=True, verified=False, statuses_count=16, lang=None, contributors_enabled=False, is_translator=False, is_translation_enabled=False, profile_background_color='F5F8FA', profile_background_image_url=None, profile_background_image_url_https=None, profile_background_tile=False, profile_image_url='http://pbs.twimg.com/profile_images/1321848414301114368/eJQ1U-Gf_normal.jpg', profile_image_url_https='https://pbs.twimg.com/profile_images/1321848414301114368/eJQ1U-Gf_normal.jpg', profile_link_color='1DA1F2', profile_sidebar_border_color='C0DEED', profile_sidebar_fill_color='DDEEF6', profile_text_color='333333', profile_use_background_image=True, has_extended_profile=True, default_profile=True, default_profile_image=False, following=False, follow_request_sent=False, notifications=False, translator_type='none'), user=User(_api=<tweepy.api.API object at 0x00000245AB624160>, _json={'id': 1321848070162710529, 'id_str': '1321848070162710529', 'name': 'Ritayu Ahamed', 'screen_name': 'RitayuAhamed', 'location': '', 'description': '', 'url': None, 'entities': {'description': {'urls': []}}, 'protected': False, 'followers_count': 0, 'friends_count': 0, 'listed_count': 0, 'created_at': 'Thu Oct 29 16:15:32 +0000 2020', 'favourites_count': 0, 'utc_offset': None, 'time_zone': None, 'geo_enabled': True, 'verified': False, 'statuses_count': 16, 'lang': None, 'contributors_enabled': False, 'is_translator': False, 'is_translation_enabled': False, 'profile_background_color': 'F5F8FA', 'profile_background_image_url': None, 'profile_background_image_url_https': None, 'profile_background_tile': False, 'profile_image_url': 'http://pbs.twimg.com/profile_images/1321848414301114368/eJQ1U-Gf_normal.jpg', 'profile_image_url_https': 'https://pbs.twimg.com/profile_images/1321848414301114368/eJQ1U-Gf_normal.jpg', 'profile_link_color': '1DA1F2', 'profile_sidebar_border_color': 'C0DEED', 'profile_sidebar_fill_color': 'DDEEF6', 'profile_text_color': '333333', 'profile_use_background_image': True, 'has_extended_profile': True, 'default_profile': True, 'default_profile_image': False, 'following': False, 'follow_request_sent': False, 'notifications': False, 'translator_type': 'none'}, id=1321848070162710529, id_str='1321848070162710529', name='Ritayu Ahamed', screen_name='RitayuAhamed', location='', description='', url=None, entities={'description': {'urls': []}}, protected=False, followers_count=0, friends_count=0, listed_count=0, created_at=datetime.datetime(2020, 10, 29, 16, 15, 32), favourites_count=0, utc_offset=None, time_zone=None, geo_enabled=True, verified=False, statuses_count=16, lang=None, contributors_enabled=False, is_translator=False, is_translation_enabled=False, profile_background_color='F5F8FA', profile_background_image_url=None, profile_background_image_url_https=None, profile_background_tile=False, profile_image_url='http://pbs.twimg.com/profile_images/1321848414301114368/eJQ1U-Gf_normal.jpg', profile_image_url_https='https://pbs.twimg.com/profile_images/1321848414301114368/eJQ1U-Gf_normal.jpg', profile_link_color='1DA1F2', profile_sidebar_border_color='C0DEED', profile_sidebar_fill_color='DDEEF6', profile_text_color='333333', profile_use_background_image=True, has_extended_profile=True, default_profile=True, default_profile_image=False, following=False, follow_request_sent=False, notifications=False, translator_type='none'), geo=None, coordinates=None, place=Place(_api=<tweepy.api.API object at 0x00000245AB624160>, id='2b276b370b6ada83', url='https://api.twitter.com/1.1/geo/id/2b276b370b6ada83.json', place_type='city', name='Papanasam', full_name='Papanasam, India', country_code='IN', country='India', contained_within=[], bounding_box=BoundingBox(_api=<tweepy.api.API object at 0x00000245AB624160>, type='Polygon', coordinates=[[[79.230492, 10.910976], [79.289902, 10.910976], [79.289902, 10.933342], [79.230492, 10.933342]]]), attributes={}), contributors=None, is_quote_status=False, retweet_count=0, favorite_count=0, favorited=False, retweeted=False, lang='en') \n",
      "\n",
      ".....................................\n",
      "\n",
      "Status(_api=<tweepy.api.API object at 0x00000245AB624160>, _json={'created_at': 'Thu Oct 29 16:16:18 +0000 2020', 'id': 1321848344189132800, 'id_str': '1321848344189132800', 'full_text': '@devdpd07 @RCBTweets What a great inning from you @devdpd07 you are the best i become your big fan you are most impressive young batsman we are too much impress with you keep it champ and winning ipl title for Rcb🙏', 'truncated': False, 'display_text_range': [21, 214], 'entities': {'hashtags': [], 'symbols': [], 'user_mentions': [{'screen_name': 'devdpd07', 'name': 'Devdutt Padikkal', 'id': 4659508754, 'id_str': '4659508754', 'indices': [0, 9]}, {'screen_name': 'RCBTweets', 'name': 'Royal Challengers Bangalore', 'id': 70931004, 'id_str': '70931004', 'indices': [10, 20]}, {'screen_name': 'devdpd07', 'name': 'Devdutt Padikkal', 'id': 4659508754, 'id_str': '4659508754', 'indices': [50, 59]}], 'urls': []}, 'metadata': {'iso_language_code': 'en', 'result_type': 'recent'}, 'source': '<a href=\"http://twitter.com/download/android\" rel=\"nofollow\">Twitter for Android</a>', 'in_reply_to_status_id': 1321538457424912384, 'in_reply_to_status_id_str': '1321538457424912384', 'in_reply_to_user_id': 4659508754, 'in_reply_to_user_id_str': '4659508754', 'in_reply_to_screen_name': 'devdpd07', 'user': {'id': 984637499946385408, 'id_str': '984637499946385408', 'name': 'Suraj Thakur', 'screen_name': 'SurajTh66412285', 'location': 'Madhya Pradesh, India', 'description': 'Silodiya', 'url': None, 'entities': {'description': {'urls': []}}, 'protected': False, 'followers_count': 188, 'friends_count': 424, 'listed_count': 0, 'created_at': 'Fri Apr 13 03:40:48 +0000 2018', 'favourites_count': 133660, 'utc_offset': None, 'time_zone': None, 'geo_enabled': True, 'verified': False, 'statuses_count': 1928, 'lang': None, 'contributors_enabled': False, 'is_translator': False, 'is_translation_enabled': False, 'profile_background_color': 'F5F8FA', 'profile_background_image_url': None, 'profile_background_image_url_https': None, 'profile_background_tile': False, 'profile_image_url': 'http://pbs.twimg.com/profile_images/1317782856416911366/sLADNY6H_normal.jpg', 'profile_image_url_https': 'https://pbs.twimg.com/profile_images/1317782856416911366/sLADNY6H_normal.jpg', 'profile_banner_url': 'https://pbs.twimg.com/profile_banners/984637499946385408/1523591201', 'profile_link_color': '1DA1F2', 'profile_sidebar_border_color': 'C0DEED', 'profile_sidebar_fill_color': 'DDEEF6', 'profile_text_color': '333333', 'profile_use_background_image': True, 'has_extended_profile': True, 'default_profile': True, 'default_profile_image': False, 'following': False, 'follow_request_sent': False, 'notifications': False, 'translator_type': 'none'}, 'geo': None, 'coordinates': None, 'place': None, 'contributors': None, 'is_quote_status': False, 'retweet_count': 0, 'favorite_count': 0, 'favorited': False, 'retweeted': False, 'lang': 'en'}, created_at=datetime.datetime(2020, 10, 29, 16, 16, 18), id=1321848344189132800, id_str='1321848344189132800', full_text='@devdpd07 @RCBTweets What a great inning from you @devdpd07 you are the best i become your big fan you are most impressive young batsman we are too much impress with you keep it champ and winning ipl title for Rcb🙏', truncated=False, display_text_range=[21, 214], entities={'hashtags': [], 'symbols': [], 'user_mentions': [{'screen_name': 'devdpd07', 'name': 'Devdutt Padikkal', 'id': 4659508754, 'id_str': '4659508754', 'indices': [0, 9]}, {'screen_name': 'RCBTweets', 'name': 'Royal Challengers Bangalore', 'id': 70931004, 'id_str': '70931004', 'indices': [10, 20]}, {'screen_name': 'devdpd07', 'name': 'Devdutt Padikkal', 'id': 4659508754, 'id_str': '4659508754', 'indices': [50, 59]}], 'urls': []}, metadata={'iso_language_code': 'en', 'result_type': 'recent'}, source='Twitter for Android', source_url='http://twitter.com/download/android', in_reply_to_status_id=1321538457424912384, in_reply_to_status_id_str='1321538457424912384', in_reply_to_user_id=4659508754, in_reply_to_user_id_str='4659508754', in_reply_to_screen_name='devdpd07', author=User(_api=<tweepy.api.API object at 0x00000245AB624160>, _json={'id': 984637499946385408, 'id_str': '984637499946385408', 'name': 'Suraj Thakur', 'screen_name': 'SurajTh66412285', 'location': 'Madhya Pradesh, India', 'description': 'Silodiya', 'url': None, 'entities': {'description': {'urls': []}}, 'protected': False, 'followers_count': 188, 'friends_count': 424, 'listed_count': 0, 'created_at': 'Fri Apr 13 03:40:48 +0000 2018', 'favourites_count': 133660, 'utc_offset': None, 'time_zone': None, 'geo_enabled': True, 'verified': False, 'statuses_count': 1928, 'lang': None, 'contributors_enabled': False, 'is_translator': False, 'is_translation_enabled': False, 'profile_background_color': 'F5F8FA', 'profile_background_image_url': None, 'profile_background_image_url_https': None, 'profile_background_tile': False, 'profile_image_url': 'http://pbs.twimg.com/profile_images/1317782856416911366/sLADNY6H_normal.jpg', 'profile_image_url_https': 'https://pbs.twimg.com/profile_images/1317782856416911366/sLADNY6H_normal.jpg', 'profile_banner_url': 'https://pbs.twimg.com/profile_banners/984637499946385408/1523591201', 'profile_link_color': '1DA1F2', 'profile_sidebar_border_color': 'C0DEED', 'profile_sidebar_fill_color': 'DDEEF6', 'profile_text_color': '333333', 'profile_use_background_image': True, 'has_extended_profile': True, 'default_profile': True, 'default_profile_image': False, 'following': False, 'follow_request_sent': False, 'notifications': False, 'translator_type': 'none'}, id=984637499946385408, id_str='984637499946385408', name='Suraj Thakur', screen_name='SurajTh66412285', location='Madhya Pradesh, India', description='Silodiya', url=None, entities={'description': {'urls': []}}, protected=False, followers_count=188, friends_count=424, listed_count=0, created_at=datetime.datetime(2018, 4, 13, 3, 40, 48), favourites_count=133660, utc_offset=None, time_zone=None, geo_enabled=True, verified=False, statuses_count=1928, lang=None, contributors_enabled=False, is_translator=False, is_translation_enabled=False, profile_background_color='F5F8FA', profile_background_image_url=None, profile_background_image_url_https=None, profile_background_tile=False, profile_image_url='http://pbs.twimg.com/profile_images/1317782856416911366/sLADNY6H_normal.jpg', profile_image_url_https='https://pbs.twimg.com/profile_images/1317782856416911366/sLADNY6H_normal.jpg', profile_banner_url='https://pbs.twimg.com/profile_banners/984637499946385408/1523591201', profile_link_color='1DA1F2', profile_sidebar_border_color='C0DEED', profile_sidebar_fill_color='DDEEF6', profile_text_color='333333', profile_use_background_image=True, has_extended_profile=True, default_profile=True, default_profile_image=False, following=False, follow_request_sent=False, notifications=False, translator_type='none'), user=User(_api=<tweepy.api.API object at 0x00000245AB624160>, _json={'id': 984637499946385408, 'id_str': '984637499946385408', 'name': 'Suraj Thakur', 'screen_name': 'SurajTh66412285', 'location': 'Madhya Pradesh, India', 'description': 'Silodiya', 'url': None, 'entities': {'description': {'urls': []}}, 'protected': False, 'followers_count': 188, 'friends_count': 424, 'listed_count': 0, 'created_at': 'Fri Apr 13 03:40:48 +0000 2018', 'favourites_count': 133660, 'utc_offset': None, 'time_zone': None, 'geo_enabled': True, 'verified': False, 'statuses_count': 1928, 'lang': None, 'contributors_enabled': False, 'is_translator': False, 'is_translation_enabled': False, 'profile_background_color': 'F5F8FA', 'profile_background_image_url': None, 'profile_background_image_url_https': None, 'profile_background_tile': False, 'profile_image_url': 'http://pbs.twimg.com/profile_images/1317782856416911366/sLADNY6H_normal.jpg', 'profile_image_url_https': 'https://pbs.twimg.com/profile_images/1317782856416911366/sLADNY6H_normal.jpg', 'profile_banner_url': 'https://pbs.twimg.com/profile_banners/984637499946385408/1523591201', 'profile_link_color': '1DA1F2', 'profile_sidebar_border_color': 'C0DEED', 'profile_sidebar_fill_color': 'DDEEF6', 'profile_text_color': '333333', 'profile_use_background_image': True, 'has_extended_profile': True, 'default_profile': True, 'default_profile_image': False, 'following': False, 'follow_request_sent': False, 'notifications': False, 'translator_type': 'none'}, id=984637499946385408, id_str='984637499946385408', name='Suraj Thakur', screen_name='SurajTh66412285', location='Madhya Pradesh, India', description='Silodiya', url=None, entities={'description': {'urls': []}}, protected=False, followers_count=188, friends_count=424, listed_count=0, created_at=datetime.datetime(2018, 4, 13, 3, 40, 48), favourites_count=133660, utc_offset=None, time_zone=None, geo_enabled=True, verified=False, statuses_count=1928, lang=None, contributors_enabled=False, is_translator=False, is_translation_enabled=False, profile_background_color='F5F8FA', profile_background_image_url=None, profile_background_image_url_https=None, profile_background_tile=False, profile_image_url='http://pbs.twimg.com/profile_images/1317782856416911366/sLADNY6H_normal.jpg', profile_image_url_https='https://pbs.twimg.com/profile_images/1317782856416911366/sLADNY6H_normal.jpg', profile_banner_url='https://pbs.twimg.com/profile_banners/984637499946385408/1523591201', profile_link_color='1DA1F2', profile_sidebar_border_color='C0DEED', profile_sidebar_fill_color='DDEEF6', profile_text_color='333333', profile_use_background_image=True, has_extended_profile=True, default_profile=True, default_profile_image=False, following=False, follow_request_sent=False, notifications=False, translator_type='none'), geo=None, coordinates=None, place=None, contributors=None, is_quote_status=False, retweet_count=0, favorite_count=0, favorited=False, retweeted=False, lang='en') \n",
      "\n",
      ".....................................\n",
      "\n"
     ]
    }
   ],
   "source": [
    "Tweets = api.search( query , count=10 , lang='en' , exclude='retweets' , tweet_mode='extended' )\n",
    "# tweet_mode='extended'\n",
    "# tweet_mode='compat'\n",
    "\n",
    "for tweet in Tweets:\n",
    "    print(tweet,\"\\n\")\n",
    "    print(\".....................................\\n\")"
   ]
  },
  {
   "cell_type": "raw",
   "metadata": {},
   "source": [
    "Get the tweets and some Attributes"
   ]
  },
  {
   "cell_type": "code",
   "execution_count": 56,
   "metadata": {},
   "outputs": [
    {
     "name": "stdout",
     "output_type": "stream",
     "text": [
      "Empty DataFrame\n",
      "Columns: [Tweets, User, User_statuses_count, user_followers, User_location, User_verified, fav_count, rt_count, tweet_date]\n",
      "Index: []\n"
     ]
    }
   ],
   "source": [
    "df = pd.DataFrame(columns = ['Tweets' , 'User' , 'User_statuses_count' , \n",
    "                            'user_followers' , 'User_location' , 'User_verified' ,\n",
    "                            'fav_count' , 'rt_count' , 'tweet_date'] )\n",
    "print(df)\n",
    "# print(df.shape)"
   ]
  },
  {
   "cell_type": "code",
   "execution_count": 57,
   "metadata": {},
   "outputs": [],
   "source": [
    "def stream(data, file_name):\n",
    "    i = 0\n",
    "    for tweet in tweepy.Cursor(api.search, q=data, count=100, lang='en').items():\n",
    "        print(i, end='\\r')\n",
    "        df.loc[i, 'Tweets'] = tweet.text\n",
    "        df.loc[i, 'User'] = tweet.user.name\n",
    "        df.loc[i, 'User_statuses_count'] = tweet.user.statuses_count\n",
    "        df.loc[i, 'user_followers'] = tweet.user.followers_count\n",
    "        df.loc[i, 'User_location'] = tweet.user.location\n",
    "        df.loc[i, 'User_verified'] = tweet.user.verified\n",
    "        df.loc[i, 'fav_count'] = tweet.favorite_count\n",
    "        df.loc[i, 'rt_count'] = tweet.retweet_count\n",
    "        df.loc[i, 'tweet_date'] = tweet.created_at\n",
    "        df.to_excel('{}.xlsx'.format(file_name))\n",
    "        i = i+1\n",
    "        if i == 1000:\n",
    "            break\n",
    "        else:\n",
    "            pass"
   ]
  },
  {
   "cell_type": "code",
   "execution_count": 58,
   "metadata": {},
   "outputs": [
    {
     "name": "stdout",
     "output_type": "stream",
     "text": [
      "999\r"
     ]
    }
   ],
   "source": [
    "stream(data=[\"Real Estate price\"] , file_name='my_tweets')"
   ]
  },
  {
   "cell_type": "code",
   "execution_count": 59,
   "metadata": {},
   "outputs": [
    {
     "data": {
      "text/html": [
       "<div>\n",
       "<style scoped>\n",
       "    .dataframe tbody tr th:only-of-type {\n",
       "        vertical-align: middle;\n",
       "    }\n",
       "\n",
       "    .dataframe tbody tr th {\n",
       "        vertical-align: top;\n",
       "    }\n",
       "\n",
       "    .dataframe thead th {\n",
       "        text-align: right;\n",
       "    }\n",
       "</style>\n",
       "<table border=\"1\" class=\"dataframe\">\n",
       "  <thead>\n",
       "    <tr style=\"text-align: right;\">\n",
       "      <th></th>\n",
       "      <th>Tweets</th>\n",
       "      <th>User</th>\n",
       "      <th>User_statuses_count</th>\n",
       "      <th>user_followers</th>\n",
       "      <th>User_location</th>\n",
       "      <th>User_verified</th>\n",
       "      <th>fav_count</th>\n",
       "      <th>rt_count</th>\n",
       "      <th>tweet_date</th>\n",
       "    </tr>\n",
       "  </thead>\n",
       "  <tbody>\n",
       "    <tr>\n",
       "      <th>0</th>\n",
       "      <td>Festive cheer for real estate- Sales in Mumbai...</td>\n",
       "      <td>Propstack</td>\n",
       "      <td>439</td>\n",
       "      <td>581</td>\n",
       "      <td>Mumbai, India</td>\n",
       "      <td>False</td>\n",
       "      <td>0</td>\n",
       "      <td>0</td>\n",
       "      <td>2020-10-30 08:58:04</td>\n",
       "    </tr>\n",
       "    <tr>\n",
       "      <th>1</th>\n",
       "      <td>@YusraGlobal I always thought it was best to i...</td>\n",
       "      <td>Дзуцев Артур</td>\n",
       "      <td>34</td>\n",
       "      <td>1</td>\n",
       "      <td></td>\n",
       "      <td>False</td>\n",
       "      <td>0</td>\n",
       "      <td>0</td>\n",
       "      <td>2020-10-30 08:56:28</td>\n",
       "    </tr>\n",
       "    <tr>\n",
       "      <th>2</th>\n",
       "      <td>@kaul_vivek I have realized that more glossy a...</td>\n",
       "      <td>योगीराज 🚩🇮🇳🕉️🕉️🕉️🔱</td>\n",
       "      <td>643</td>\n",
       "      <td>576</td>\n",
       "      <td>सिंधुसागर तटे श्री स्थानक</td>\n",
       "      <td>False</td>\n",
       "      <td>0</td>\n",
       "      <td>0</td>\n",
       "      <td>2020-10-30 08:22:24</td>\n",
       "    </tr>\n",
       "    <tr>\n",
       "      <th>3</th>\n",
       "      <td>Hint: the @ecb is already buying more bonds th...</td>\n",
       "      <td>MG</td>\n",
       "      <td>37832</td>\n",
       "      <td>793</td>\n",
       "      <td>Deutschland</td>\n",
       "      <td>False</td>\n",
       "      <td>2</td>\n",
       "      <td>0</td>\n",
       "      <td>2020-10-30 07:42:29</td>\n",
       "    </tr>\n",
       "    <tr>\n",
       "      <th>4</th>\n",
       "      <td>@sandythapar I believe exponential inflation i...</td>\n",
       "      <td>Anjani</td>\n",
       "      <td>576</td>\n",
       "      <td>6</td>\n",
       "      <td></td>\n",
       "      <td>False</td>\n",
       "      <td>0</td>\n",
       "      <td>0</td>\n",
       "      <td>2020-10-30 07:34:48</td>\n",
       "    </tr>\n",
       "  </tbody>\n",
       "</table>\n",
       "</div>"
      ],
      "text/plain": [
       "                                              Tweets                User  \\\n",
       "0  Festive cheer for real estate- Sales in Mumbai...           Propstack   \n",
       "1  @YusraGlobal I always thought it was best to i...        Дзуцев Артур   \n",
       "2  @kaul_vivek I have realized that more glossy a...  योगीराज 🚩🇮🇳🕉️🕉️🕉️🔱   \n",
       "3  Hint: the @ecb is already buying more bonds th...                  MG   \n",
       "4  @sandythapar I believe exponential inflation i...              Anjani   \n",
       "\n",
       "  User_statuses_count user_followers              User_location User_verified  \\\n",
       "0                 439            581              Mumbai, India         False   \n",
       "1                  34              1                                    False   \n",
       "2                 643            576  सिंधुसागर तटे श्री स्थानक         False   \n",
       "3               37832            793                Deutschland         False   \n",
       "4                 576              6                                    False   \n",
       "\n",
       "  fav_count rt_count           tweet_date  \n",
       "0         0        0  2020-10-30 08:58:04  \n",
       "1         0        0  2020-10-30 08:56:28  \n",
       "2         0        0  2020-10-30 08:22:24  \n",
       "3         2        0  2020-10-30 07:42:29  \n",
       "4         0        0  2020-10-30 07:34:48  "
      ]
     },
     "execution_count": 59,
     "metadata": {},
     "output_type": "execute_result"
    }
   ],
   "source": [
    "df.head()"
   ]
  },
  {
   "cell_type": "code",
   "execution_count": 60,
   "metadata": {},
   "outputs": [],
   "source": [
    "#pip install textblob"
   ]
  },
  {
   "cell_type": "raw",
   "metadata": {},
   "source": [
    "Sentiment(polarity, subjectivity)\n",
    "\n",
    "Polarity score: [-1 , +1]\n",
    "\n",
    "Subjectivity: [0.0 , 1.0] \n",
    "where 0.0 is very Objective and 1.0 is very Subjective."
   ]
  },
  {
   "cell_type": "code",
   "execution_count": 61,
   "metadata": {},
   "outputs": [],
   "source": [
    "from textblob import TextBlob"
   ]
  },
  {
   "cell_type": "code",
   "execution_count": 62,
   "metadata": {},
   "outputs": [],
   "source": [
    "import re\n",
    "def clean_tweet(tweet):\n",
    "    return ' '.join(re.sub('(@[A-Za-z0-9]+)|([^0-9A-Za-z \\t])|(\\w+:\\/\\/\\S+)', ' ', tweet).split())"
   ]
  },
  {
   "cell_type": "code",
   "execution_count": 63,
   "metadata": {},
   "outputs": [],
   "source": [
    "def analyze_sentiment(tweet):\n",
    "    analysis = TextBlob(tweet)\n",
    "    if analysis.sentiment.polarity > 0:\n",
    "        return 'Positive'\n",
    "    elif analysis.sentiment.polarity == 0:\n",
    "        return 'Neutral'\n",
    "    else:\n",
    "        return 'Negative'"
   ]
  },
  {
   "cell_type": "code",
   "execution_count": 64,
   "metadata": {},
   "outputs": [],
   "source": [
    "df['clean_tweet'] = df['Tweets'].apply(lambda x : clean_tweet(x))"
   ]
  },
  {
   "cell_type": "code",
   "execution_count": 65,
   "metadata": {},
   "outputs": [
    {
     "data": {
      "text/html": [
       "<div>\n",
       "<style scoped>\n",
       "    .dataframe tbody tr th:only-of-type {\n",
       "        vertical-align: middle;\n",
       "    }\n",
       "\n",
       "    .dataframe tbody tr th {\n",
       "        vertical-align: top;\n",
       "    }\n",
       "\n",
       "    .dataframe thead th {\n",
       "        text-align: right;\n",
       "    }\n",
       "</style>\n",
       "<table border=\"1\" class=\"dataframe\">\n",
       "  <thead>\n",
       "    <tr style=\"text-align: right;\">\n",
       "      <th></th>\n",
       "      <th>Tweets</th>\n",
       "      <th>User</th>\n",
       "      <th>User_statuses_count</th>\n",
       "      <th>user_followers</th>\n",
       "      <th>User_location</th>\n",
       "      <th>User_verified</th>\n",
       "      <th>fav_count</th>\n",
       "      <th>rt_count</th>\n",
       "      <th>tweet_date</th>\n",
       "      <th>clean_tweet</th>\n",
       "    </tr>\n",
       "  </thead>\n",
       "  <tbody>\n",
       "    <tr>\n",
       "      <th>0</th>\n",
       "      <td>Festive cheer for real estate- Sales in Mumbai...</td>\n",
       "      <td>Propstack</td>\n",
       "      <td>439</td>\n",
       "      <td>581</td>\n",
       "      <td>Mumbai, India</td>\n",
       "      <td>False</td>\n",
       "      <td>0</td>\n",
       "      <td>0</td>\n",
       "      <td>2020-10-30 08:58:04</td>\n",
       "      <td>Festive cheer for real estate Sales in Mumbai ...</td>\n",
       "    </tr>\n",
       "    <tr>\n",
       "      <th>1</th>\n",
       "      <td>@YusraGlobal I always thought it was best to i...</td>\n",
       "      <td>Дзуцев Артур</td>\n",
       "      <td>34</td>\n",
       "      <td>1</td>\n",
       "      <td></td>\n",
       "      <td>False</td>\n",
       "      <td>0</td>\n",
       "      <td>0</td>\n",
       "      <td>2020-10-30 08:56:28</td>\n",
       "      <td>I always thought it was best to invest in real...</td>\n",
       "    </tr>\n",
       "    <tr>\n",
       "      <th>2</th>\n",
       "      <td>@kaul_vivek I have realized that more glossy a...</td>\n",
       "      <td>योगीराज 🚩🇮🇳🕉️🕉️🕉️🔱</td>\n",
       "      <td>643</td>\n",
       "      <td>576</td>\n",
       "      <td>सिंधुसागर तटे श्री स्थानक</td>\n",
       "      <td>False</td>\n",
       "      <td>0</td>\n",
       "      <td>0</td>\n",
       "      <td>2020-10-30 08:22:24</td>\n",
       "      <td>vivek I have realized that more glossy are the...</td>\n",
       "    </tr>\n",
       "    <tr>\n",
       "      <th>3</th>\n",
       "      <td>Hint: the @ecb is already buying more bonds th...</td>\n",
       "      <td>MG</td>\n",
       "      <td>37832</td>\n",
       "      <td>793</td>\n",
       "      <td>Deutschland</td>\n",
       "      <td>False</td>\n",
       "      <td>2</td>\n",
       "      <td>0</td>\n",
       "      <td>2020-10-30 07:42:29</td>\n",
       "      <td>Hint the is already buying more bonds than sta...</td>\n",
       "    </tr>\n",
       "    <tr>\n",
       "      <th>4</th>\n",
       "      <td>@sandythapar I believe exponential inflation i...</td>\n",
       "      <td>Anjani</td>\n",
       "      <td>576</td>\n",
       "      <td>6</td>\n",
       "      <td></td>\n",
       "      <td>False</td>\n",
       "      <td>0</td>\n",
       "      <td>0</td>\n",
       "      <td>2020-10-30 07:34:48</td>\n",
       "      <td>I believe exponential inflation in real estate...</td>\n",
       "    </tr>\n",
       "  </tbody>\n",
       "</table>\n",
       "</div>"
      ],
      "text/plain": [
       "                                              Tweets                User  \\\n",
       "0  Festive cheer for real estate- Sales in Mumbai...           Propstack   \n",
       "1  @YusraGlobal I always thought it was best to i...        Дзуцев Артур   \n",
       "2  @kaul_vivek I have realized that more glossy a...  योगीराज 🚩🇮🇳🕉️🕉️🕉️🔱   \n",
       "3  Hint: the @ecb is already buying more bonds th...                  MG   \n",
       "4  @sandythapar I believe exponential inflation i...              Anjani   \n",
       "\n",
       "  User_statuses_count user_followers              User_location User_verified  \\\n",
       "0                 439            581              Mumbai, India         False   \n",
       "1                  34              1                                    False   \n",
       "2                 643            576  सिंधुसागर तटे श्री स्थानक         False   \n",
       "3               37832            793                Deutschland         False   \n",
       "4                 576              6                                    False   \n",
       "\n",
       "  fav_count rt_count           tweet_date  \\\n",
       "0         0        0  2020-10-30 08:58:04   \n",
       "1         0        0  2020-10-30 08:56:28   \n",
       "2         0        0  2020-10-30 08:22:24   \n",
       "3         2        0  2020-10-30 07:42:29   \n",
       "4         0        0  2020-10-30 07:34:48   \n",
       "\n",
       "                                         clean_tweet  \n",
       "0  Festive cheer for real estate Sales in Mumbai ...  \n",
       "1  I always thought it was best to invest in real...  \n",
       "2  vivek I have realized that more glossy are the...  \n",
       "3  Hint the is already buying more bonds than sta...  \n",
       "4  I believe exponential inflation in real estate...  "
      ]
     },
     "execution_count": 65,
     "metadata": {},
     "output_type": "execute_result"
    }
   ],
   "source": [
    "df.head()"
   ]
  },
  {
   "cell_type": "code",
   "execution_count": 66,
   "metadata": {},
   "outputs": [
    {
     "data": {
      "text/html": [
       "<div>\n",
       "<style scoped>\n",
       "    .dataframe tbody tr th:only-of-type {\n",
       "        vertical-align: middle;\n",
       "    }\n",
       "\n",
       "    .dataframe tbody tr th {\n",
       "        vertical-align: top;\n",
       "    }\n",
       "\n",
       "    .dataframe thead th {\n",
       "        text-align: right;\n",
       "    }\n",
       "</style>\n",
       "<table border=\"1\" class=\"dataframe\">\n",
       "  <thead>\n",
       "    <tr style=\"text-align: right;\">\n",
       "      <th></th>\n",
       "      <th>Tweets</th>\n",
       "      <th>User</th>\n",
       "      <th>User_statuses_count</th>\n",
       "      <th>user_followers</th>\n",
       "      <th>User_location</th>\n",
       "      <th>User_verified</th>\n",
       "      <th>fav_count</th>\n",
       "      <th>rt_count</th>\n",
       "      <th>tweet_date</th>\n",
       "      <th>clean_tweet</th>\n",
       "      <th>Sentiment</th>\n",
       "    </tr>\n",
       "  </thead>\n",
       "  <tbody>\n",
       "    <tr>\n",
       "      <th>0</th>\n",
       "      <td>Festive cheer for real estate- Sales in Mumbai...</td>\n",
       "      <td>Propstack</td>\n",
       "      <td>439</td>\n",
       "      <td>581</td>\n",
       "      <td>Mumbai, India</td>\n",
       "      <td>False</td>\n",
       "      <td>0</td>\n",
       "      <td>0</td>\n",
       "      <td>2020-10-30 08:58:04</td>\n",
       "      <td>Festive cheer for real estate Sales in Mumbai ...</td>\n",
       "      <td>Positive</td>\n",
       "    </tr>\n",
       "    <tr>\n",
       "      <th>1</th>\n",
       "      <td>@YusraGlobal I always thought it was best to i...</td>\n",
       "      <td>Дзуцев Артур</td>\n",
       "      <td>34</td>\n",
       "      <td>1</td>\n",
       "      <td></td>\n",
       "      <td>False</td>\n",
       "      <td>0</td>\n",
       "      <td>0</td>\n",
       "      <td>2020-10-30 08:56:28</td>\n",
       "      <td>I always thought it was best to invest in real...</td>\n",
       "      <td>Positive</td>\n",
       "    </tr>\n",
       "    <tr>\n",
       "      <th>2</th>\n",
       "      <td>@kaul_vivek I have realized that more glossy a...</td>\n",
       "      <td>योगीराज 🚩🇮🇳🕉️🕉️🕉️🔱</td>\n",
       "      <td>643</td>\n",
       "      <td>576</td>\n",
       "      <td>सिंधुसागर तटे श्री स्थानक</td>\n",
       "      <td>False</td>\n",
       "      <td>0</td>\n",
       "      <td>0</td>\n",
       "      <td>2020-10-30 08:22:24</td>\n",
       "      <td>vivek I have realized that more glossy are the...</td>\n",
       "      <td>Positive</td>\n",
       "    </tr>\n",
       "    <tr>\n",
       "      <th>3</th>\n",
       "      <td>Hint: the @ecb is already buying more bonds th...</td>\n",
       "      <td>MG</td>\n",
       "      <td>37832</td>\n",
       "      <td>793</td>\n",
       "      <td>Deutschland</td>\n",
       "      <td>False</td>\n",
       "      <td>2</td>\n",
       "      <td>0</td>\n",
       "      <td>2020-10-30 07:42:29</td>\n",
       "      <td>Hint the is already buying more bonds than sta...</td>\n",
       "      <td>Positive</td>\n",
       "    </tr>\n",
       "    <tr>\n",
       "      <th>4</th>\n",
       "      <td>@sandythapar I believe exponential inflation i...</td>\n",
       "      <td>Anjani</td>\n",
       "      <td>576</td>\n",
       "      <td>6</td>\n",
       "      <td></td>\n",
       "      <td>False</td>\n",
       "      <td>0</td>\n",
       "      <td>0</td>\n",
       "      <td>2020-10-30 07:34:48</td>\n",
       "      <td>I believe exponential inflation in real estate...</td>\n",
       "      <td>Positive</td>\n",
       "    </tr>\n",
       "  </tbody>\n",
       "</table>\n",
       "</div>"
      ],
      "text/plain": [
       "                                              Tweets                User  \\\n",
       "0  Festive cheer for real estate- Sales in Mumbai...           Propstack   \n",
       "1  @YusraGlobal I always thought it was best to i...        Дзуцев Артур   \n",
       "2  @kaul_vivek I have realized that more glossy a...  योगीराज 🚩🇮🇳🕉️🕉️🕉️🔱   \n",
       "3  Hint: the @ecb is already buying more bonds th...                  MG   \n",
       "4  @sandythapar I believe exponential inflation i...              Anjani   \n",
       "\n",
       "  User_statuses_count user_followers              User_location User_verified  \\\n",
       "0                 439            581              Mumbai, India         False   \n",
       "1                  34              1                                    False   \n",
       "2                 643            576  सिंधुसागर तटे श्री स्थानक         False   \n",
       "3               37832            793                Deutschland         False   \n",
       "4                 576              6                                    False   \n",
       "\n",
       "  fav_count rt_count           tweet_date  \\\n",
       "0         0        0  2020-10-30 08:58:04   \n",
       "1         0        0  2020-10-30 08:56:28   \n",
       "2         0        0  2020-10-30 08:22:24   \n",
       "3         2        0  2020-10-30 07:42:29   \n",
       "4         0        0  2020-10-30 07:34:48   \n",
       "\n",
       "                                         clean_tweet Sentiment  \n",
       "0  Festive cheer for real estate Sales in Mumbai ...  Positive  \n",
       "1  I always thought it was best to invest in real...  Positive  \n",
       "2  vivek I have realized that more glossy are the...  Positive  \n",
       "3  Hint the is already buying more bonds than sta...  Positive  \n",
       "4  I believe exponential inflation in real estate...  Positive  "
      ]
     },
     "execution_count": 66,
     "metadata": {},
     "output_type": "execute_result"
    }
   ],
   "source": [
    "df['Sentiment'] = df['clean_tweet'].apply(lambda x : analyze_sentiment(x) )\n",
    "df.head()"
   ]
  },
  {
   "cell_type": "code",
   "execution_count": 67,
   "metadata": {},
   "outputs": [
    {
     "name": "stdout",
     "output_type": "stream",
     "text": [
      "Original tweet:\n",
      " @YusraGlobal I always thought it was best to invest in real estate. The price of it is only growing, in addition, it can be rented out.\n",
      "\n",
      "Clean tweet:\n",
      " I always thought it was best to invest in real estate The price of it is only growing in addition it can be rented out\n"
     ]
    }
   ],
   "source": [
    "n = 1\n",
    "print(\"Original tweet:\\n\",df['Tweets'][n])\n",
    "print()\n",
    "print(\"Clean tweet:\\n\",df['clean_tweet'][n])\n"
   ]
  },
  {
   "cell_type": "code",
   "execution_count": 68,
   "metadata": {},
   "outputs": [
    {
     "name": "stdout",
     "output_type": "stream",
     "text": [
      "Original tweet:\n",
      " RT @Emelia_R: I’m watching videos on Ghanaian real estate and the average down payment is 25% of the sale price. We’d all be homeless if th…\n",
      "\n",
      "Clean tweet:\n",
      " RT R I m watching videos on Ghanaian real estate and the average down payment is 25 of the sale price We d all be homeless if th\n"
     ]
    }
   ],
   "source": [
    "n = 20\n",
    "print(\"Original tweet:\\n\",df['Tweets'][n])\n",
    "print()\n",
    "print(\"Clean tweet:\\n\",df['clean_tweet'][n])\n"
   ]
  },
  {
   "cell_type": "code",
   "execution_count": 69,
   "metadata": {},
   "outputs": [
    {
     "name": "stdout",
     "output_type": "stream",
     "text": [
      "Original tweet:\n",
      " YAY!! Happy for my Sellers!\n",
      "\n",
      "Multiple offers, over ask price (key strategy) to get my client the highest price for… https://t.co/T5IONgRMU3\n",
      "\n",
      "Clean tweet:\n",
      " YAY Happy for my Sellers Multiple offers over ask price key strategy to get my client the highest price for\n"
     ]
    }
   ],
   "source": [
    "n = 203\n",
    "print(\"Original tweet:\\n\",df['Tweets'][n])\n",
    "print()\n",
    "print(\"Clean tweet:\\n\",df['clean_tweet'][n])\n"
   ]
  },
  {
   "cell_type": "code",
   "execution_count": 70,
   "metadata": {},
   "outputs": [
    {
     "data": {
      "text/plain": [
       "766"
      ]
     },
     "execution_count": 70,
     "metadata": {},
     "output_type": "execute_result"
    }
   ],
   "source": [
    "df[df.Sentiment == 'Positive'].shape[0]"
   ]
  },
  {
   "cell_type": "code",
   "execution_count": 71,
   "metadata": {},
   "outputs": [
    {
     "data": {
      "text/plain": [
       "168"
      ]
     },
     "execution_count": 71,
     "metadata": {},
     "output_type": "execute_result"
    }
   ],
   "source": [
    "df[df.Sentiment == 'Neutral'].shape[0]"
   ]
  },
  {
   "cell_type": "code",
   "execution_count": 72,
   "metadata": {},
   "outputs": [
    {
     "data": {
      "text/plain": [
       "66"
      ]
     },
     "execution_count": 72,
     "metadata": {},
     "output_type": "execute_result"
    }
   ],
   "source": [
    "df[df.Sentiment == 'Negative'].shape[0]"
   ]
  },
  {
   "cell_type": "markdown",
   "metadata": {},
   "source": []
  }
 ],
 "metadata": {
  "kernelspec": {
   "display_name": "Python 3",
   "language": "python",
   "name": "python3"
  },
  "language_info": {
   "codemirror_mode": {
    "name": "ipython",
    "version": 3
   },
   "file_extension": ".py",
   "mimetype": "text/x-python",
   "name": "python",
   "nbconvert_exporter": "python",
   "pygments_lexer": "ipython3",
   "version": "3.8.3"
  }
 },
 "nbformat": 4,
 "nbformat_minor": 4
}
