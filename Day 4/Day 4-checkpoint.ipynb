{
 "cells": [
  {
   "cell_type": "markdown",
   "metadata": {},
   "source": [
    " # Question 1 : Research on whether addition, subtraction, multiplication, division, floor division and modulo operations be performed on complex numbers. Based on your study, implement a Python program to demonstrate these operations."
   ]
  },
  {
   "cell_type": "code",
   "execution_count": 1,
   "metadata": {},
   "outputs": [
    {
     "name": "stdout",
     "output_type": "stream",
     "text": [
      "(5+3j)\n",
      "(-1+3j)\n",
      "(6+9j)\n",
      "(0.6666666666666666+1j)\n"
     ]
    }
   ],
   "source": [
    "x = 2 + 3j # x is one complex number\n",
    "y = 1 + 2 # t is another complex number\n",
    "\n",
    "z = x + y # addation \n",
    "e = x - y # subtraction\n",
    "r = x * y # multiplication\n",
    "i = x/y  # DIVISION\n",
    "\n",
    "print(z)\n",
    "print(e)\n",
    "print(r)\n",
    "print(i)"
   ]
  },
  {
   "cell_type": "markdown",
   "metadata": {},
   "source": []
  },
  {
   "cell_type": "markdown",
   "metadata": {},
   "source": [
    "# Research on range() functions and its parameters. Create a markdown cell and write in your own words (no copy-paste from google please) what you understand about it. Implement a small program of your choice on the same. "
   ]
  },
  {
   "cell_type": "markdown",
   "metadata": {},
   "source": [
    "-->Range function returns a sequence of number starting from 0 by default and increments 1 by default \n",
    "--> Syntax ----   range(start, stop, step),WHERE:\n",
    "  START: BEGINNING OF RANGE \n",
    "  STOP: END OF RANGE\n",
    "  STEP : STEPS \n",
    "  \n",
    " ### EXAMPLE:\n"
   ]
  },
  {
   "cell_type": "code",
   "execution_count": 2,
   "metadata": {},
   "outputs": [
    {
     "name": "stdout",
     "output_type": "stream",
     "text": [
      "3\n",
      "6\n",
      "9\n",
      "12\n",
      "15\n",
      "18\n",
      "21\n",
      "24\n",
      "27\n",
      "30\n",
      "33\n",
      "36\n",
      "39\n",
      "42\n",
      "45\n",
      "48\n",
      "51\n",
      "54\n",
      "57\n",
      "60\n",
      "63\n"
     ]
    }
   ],
   "source": [
    "x = range(3,66,3) # START = 3 ; END  = 66 ; STEP = 3\n",
    "\n",
    "for n in x:   #LOOP\n",
    "  print(n)"
   ]
  },
  {
   "cell_type": "code",
   "execution_count": null,
   "metadata": {},
   "outputs": [],
   "source": []
  },
  {
   "cell_type": "markdown",
   "metadata": {},
   "source": [
    "#  Consider two numbers. Perform their subtraction and if the result of subtraction is greater than 25, print their multiplication result else print their division result. "
   ]
  },
  {
   "cell_type": "code",
   "execution_count": 4,
   "metadata": {},
   "outputs": [
    {
     "name": "stdout",
     "output_type": "stream",
     "text": [
      "Result would be multiplication : 1782\n"
     ]
    }
   ],
   "source": [
    "x = 66\n",
    "y = 27\n",
    "\n",
    "if x - y > 25:\n",
    "    print(\"Result would be multiplication :\" , x*y)\n",
    "else:\n",
    "    print(\"else it would be divisible :\" , x/y)"
   ]
  },
  {
   "cell_type": "code",
   "execution_count": null,
   "metadata": {},
   "outputs": [],
   "source": []
  },
  {
   "cell_type": "markdown",
   "metadata": {},
   "source": [
    "# Consider a list of 10 elements of integer values. If the number in the list is divisible by 2, print the result as \"square of that number minus 2\". "
   ]
  },
  {
   "cell_type": "code",
   "execution_count": 5,
   "metadata": {},
   "outputs": [
    {
     "name": "stdout",
     "output_type": "stream",
     "text": [
      "Result would be square of that number minus 2 1934\n",
      "Result would be square of that number minus 2 2114\n",
      "Result would be square of that number minus 2 6082\n",
      "Result would be square of that number minus 2 3134\n",
      "Result would be square of that number minus 2 4354\n"
     ]
    }
   ],
   "source": [
    "l = [ 23,25,27,29,33,44,46,78,56,66]\n",
    "    \n",
    "for i in l:\n",
    "    if i%2 ==0:\n",
    "        print(\"Result would be square of that number minus 2 : \" , i*i - 2)"
   ]
  },
  {
   "cell_type": "code",
   "execution_count": null,
   "metadata": {},
   "outputs": [],
   "source": []
  },
  {
   "cell_type": "markdown",
   "metadata": {},
   "source": [
    "# Consider a list of 10 elements. Print all the elements in the list which are greater than 7 when that number is divided 2. "
   ]
  },
  {
   "cell_type": "code",
   "execution_count": 6,
   "metadata": {},
   "outputs": [
    {
     "name": "stdout",
     "output_type": "stream",
     "text": [
      "44\n",
      "55\n",
      "76\n",
      "56\n"
     ]
    }
   ],
   "source": [
    "l = [2,3,5,7,9,13,44,55,76,56]\n",
    "\n",
    "for i in l:\n",
    "    if i/2 > 7:\n",
    "        print(i)"
   ]
  },
  {
   "cell_type": "markdown",
   "metadata": {},
   "source": [
    "# Done"
   ]
  }
 ],
 "metadata": {
  "kernelspec": {
   "display_name": "Python 3",
   "language": "python",
   "name": "python3"
  },
  "language_info": {
   "codemirror_mode": {
    "name": "ipython",
    "version": 3
   },
   "file_extension": ".py",
   "mimetype": "text/x-python",
   "name": "python",
   "nbconvert_exporter": "python",
   "pygments_lexer": "ipython3",
   "version": "3.7.6"
  }
 },
 "nbformat": 4,
 "nbformat_minor": 4
}
