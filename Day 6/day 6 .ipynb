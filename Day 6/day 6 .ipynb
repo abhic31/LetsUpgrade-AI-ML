{
 "cells": [
  {
   "cell_type": "markdown",
   "metadata": {},
   "source": [
    "# Question 1: Assuming that we have some email addresses in the \"username@companyname.com\" format, please write program to print the company name of a given email address. Both user names and company names are composed of letters only"
   ]
  },
  {
   "cell_type": "code",
   "execution_count": null,
   "metadata": {},
   "outputs": [
    {
     "name": "stdout",
     "output_type": "stream",
     "text": [
      "Enter the mail address\n"
     ]
    }
   ],
   "source": [
    "\n",
    "print(\"Enter the mail address\")\n",
    "ip = input(\"please enter mail \")\n",
    "print(ip)\n",
    "sp = ip.split(\"@\")\n",
    "print(sp)\n"
   ]
  },
  {
   "cell_type": "markdown",
   "metadata": {},
   "source": [
    "# Question 2: Write a program that accepts a comma-separated sequence of words as input and prints the words in a comma separated sequence after sorting them alphabetically."
   ]
  },
  {
   "cell_type": "code",
   "execution_count": null,
   "metadata": {},
   "outputs": [],
   "source": [
    "A = str(input(\"Enter\"))\n",
    "print(A)\n",
    "\n",
    "li = A.split(\",\") \n",
    "li.sort()\n",
    "\n",
    "print(li)\n"
   ]
  },
  {
   "cell_type": "markdown",
   "metadata": {},
   "source": [
    "# Create your own Jupyter Notebook for Sets"
   ]
  },
  {
   "cell_type": "code",
   "execution_count": 5,
   "metadata": {},
   "outputs": [
    {
     "name": "stdout",
     "output_type": "stream",
     "text": [
      "{'lion', 'mars', 'bike', 'xmas', 'orange', 'truck', 'car'}\n",
      "7\n"
     ]
    }
   ],
   "source": [
    "thisset = {\"car\", \"bike\", \"mars\"}\n",
    " #print\n",
    "\n",
    "thisset.add('orange')\n",
    "\n",
    "thisset.update([\"xmas\", \"lion\", \"truck\"])\n",
    "print(thisset)\n",
    "print(len(thisset))"
   ]
  },
  {
   "cell_type": "markdown",
   "metadata": {},
   "source": [
    "# Given a list of n-1 numbers ranging from 1 to n, your task is to find the missing number. There are no duplicates"
   ]
  },
  {
   "cell_type": "code",
   "execution_count": 6,
   "metadata": {},
   "outputs": [
    {
     "name": "stdout",
     "output_type": "stream",
     "text": [
      "[5, 8, 9]\n",
      "[13, 15, 16]\n"
     ]
    }
   ],
   "source": [
    "def missing_numbers(num_list):\n",
    "      original_list = [x for x in range(num_list[0], num_list[-1] + 1)]\n",
    "      num_list = set(num_list)\n",
    "      return (list(num_list ^ set(original_list)))\n",
    "\n",
    "print(missing_numbers([1,2,3,4,6,7,10]))\n",
    "print(missing_numbers([10,11,12,14,17]))"
   ]
  },
  {
   "cell_type": "markdown",
   "metadata": {},
   "source": [
    "# With a given list L, write a program to print this list L after removing all duplicate values with original order reserved. "
   ]
  },
  {
   "cell_type": "code",
   "execution_count": 7,
   "metadata": {},
   "outputs": [
    {
     "name": "stdout",
     "output_type": "stream",
     "text": [
      "['4', '55', '77', '14']\n"
     ]
    }
   ],
   "source": [
    "mylist = [\"4\", \"4\", \"55\", \"77\", \"14\"]\n",
    "mylist = list(dict.fromkeys(mylist))\n",
    "print(mylist)"
   ]
  },
  {
   "cell_type": "code",
   "execution_count": null,
   "metadata": {},
   "outputs": [],
   "source": []
  }
 ],
 "metadata": {
  "kernelspec": {
   "display_name": "Python 3",
   "language": "python",
   "name": "python3"
  },
  "language_info": {
   "codemirror_mode": {
    "name": "ipython",
    "version": 3
   },
   "file_extension": ".py",
   "mimetype": "text/x-python",
   "name": "python",
   "nbconvert_exporter": "python",
   "pygments_lexer": "ipython3",
   "version": "3.7.6"
  }
 },
 "nbformat": 4,
 "nbformat_minor": 4
}
