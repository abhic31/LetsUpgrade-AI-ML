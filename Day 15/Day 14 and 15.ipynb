{
 "cells": [
  {
   "cell_type": "markdown",
   "metadata": {},
   "source": [
    "# 1. Create a 3x3x3 array with random values "
   ]
  },
  {
   "cell_type": "code",
   "execution_count": 2,
   "metadata": {},
   "outputs": [
    {
     "data": {
      "text/plain": [
       "array([[0.83312232, 0.33615755, 0.00177245],\n",
       "       [0.01605449, 0.3850665 , 0.51707656],\n",
       "       [0.50182914, 0.81974937, 0.68846145]])"
      ]
     },
     "execution_count": 2,
     "metadata": {},
     "output_type": "execute_result"
    }
   ],
   "source": [
    "import numpy as np\n",
    "x = np.random.rand(3,3)\n",
    "x"
   ]
  },
  {
   "cell_type": "markdown",
   "metadata": {},
   "source": [
    "# 2.Create a 5x5 matrix with values 1,2,3,4 just below the diagonal"
   ]
  },
  {
   "cell_type": "code",
   "execution_count": 22,
   "metadata": {},
   "outputs": [
    {
     "data": {
      "text/plain": [
       "array([[1, 0, 0, 0, 0],\n",
       "       [1, 1, 0, 0, 0],\n",
       "       [1, 2, 1, 0, 0],\n",
       "       [1, 2, 3, 1, 0],\n",
       "       [1, 2, 3, 4, 1]])"
      ]
     },
     "execution_count": 22,
     "metadata": {},
     "output_type": "execute_result"
    }
   ],
   "source": [
    "import numpy as np\n",
    "x = np.array([[1,0,0,0,0],\n",
    "             [1,1,0,0,0],\n",
    "             [1,2,1,0,0],\n",
    "            [1,2,3,1,0],\n",
    "            [1,2,3,4,1]])\n",
    "x"
   ]
  },
  {
   "cell_type": "markdown",
   "metadata": {},
   "source": [
    "# 3.Create a 8x8 matrix and fill it with a checkerboard pattern"
   ]
  },
  {
   "cell_type": "code",
   "execution_count": 23,
   "metadata": {},
   "outputs": [
    {
     "name": "stdout",
     "output_type": "stream",
     "text": [
      "Checkerboard pattern:\n",
      "0 1 0 1 0 1 0 1 \n",
      "1 0 1 0 1 0 1 0 \n",
      "0 1 0 1 0 1 0 1 \n",
      "1 0 1 0 1 0 1 0 \n",
      "0 1 0 1 0 1 0 1 \n",
      "1 0 1 0 1 0 1 0 \n",
      "0 1 0 1 0 1 0 1 \n",
      "1 0 1 0 1 0 1 0 \n"
     ]
    }
   ],
   "source": [
    "import numpy as np\n",
    "# function to print Checkerboard pattern \n",
    "def printcheckboard(n): \n",
    "      \n",
    "    print(\"Checkerboard pattern:\") \n",
    "  \n",
    "    # create a n * n matrix \n",
    "    x = np.zeros((n, n), dtype = int) \n",
    "  \n",
    "    # fill with 1 the alternate rows and columns \n",
    "    x[1::2, ::2] = 1\n",
    "    x[::2, 1::2] = 1\n",
    "      \n",
    "    # print the pattern \n",
    "    for i in range(n): \n",
    "        for j in range(n): \n",
    "            print(x[i][j], end =\" \")  \n",
    "        print()  \n",
    "  \n",
    "  \n",
    "# driver code \n",
    "n = 8\n",
    "printcheckboard(n) "
   ]
  },
  {
   "cell_type": "markdown",
   "metadata": {},
   "source": [
    "# 4. Normalize a 5x5 random matrix"
   ]
  },
  {
   "cell_type": "code",
   "execution_count": 27,
   "metadata": {},
   "outputs": [
    {
     "name": "stdout",
     "output_type": "stream",
     "text": [
      "After normalization:\n",
      "[[0.25974792 0.14426964 0.25735486 0.9812332  0.62732942]\n",
      " [0.0203712  0.48853234 0.69077914 1.         0.92033378]\n",
      " [0.55415427 0.23687252 0.95173512 0.         0.23707396]\n",
      " [0.3604638  0.301279   0.47143607 0.42210775 0.11809123]\n",
      " [0.75980948 0.08541193 0.18703815 0.76205137 0.09472818]]\n"
     ]
    }
   ],
   "source": [
    "import numpy as np\n",
    "x = np.random.rand(5,5)\n",
    "\n",
    "xmax, xmin = x.max(), x.min()\n",
    "x = (x - xmin)/(xmax - xmin)\n",
    "print(\"After normalization:\")\n",
    "print(x)"
   ]
  },
  {
   "cell_type": "markdown",
   "metadata": {},
   "source": [
    "# 5.  How to find common values between two arrays?"
   ]
  },
  {
   "cell_type": "code",
   "execution_count": 28,
   "metadata": {},
   "outputs": [
    {
     "name": "stdout",
     "output_type": "stream",
     "text": [
      "Array1:  [ 0 10 20 40 60]\n",
      "Array2:  [10, 30, 40]\n",
      "Common values between two arrays:\n",
      "[10 40]\n"
     ]
    }
   ],
   "source": [
    "import numpy as np\n",
    "array1 = np.array([0, 10, 20, 40, 60])\n",
    "print(\"Array1: \",array1)\n",
    "array2 = [10, 30, 40]\n",
    "print(\"Array2: \",array2)\n",
    "print(\"Common values between two arrays:\")\n",
    "print(np.intersect1d(array1, array2))"
   ]
  },
  {
   "cell_type": "markdown",
   "metadata": {},
   "source": [
    "# 6.How to get the dates of yesterday, today and tomorrow?"
   ]
  },
  {
   "cell_type": "code",
   "execution_count": 29,
   "metadata": {},
   "outputs": [
    {
     "name": "stdout",
     "output_type": "stream",
     "text": [
      "Yestraday:  2020-07-26\n",
      "Today:  2020-07-27\n",
      "Tomorrow:  2020-07-28\n"
     ]
    }
   ],
   "source": [
    "import numpy as np\n",
    "yesterday = np.datetime64('today', 'D') - np.timedelta64(1, 'D')\n",
    "print(\"Yestraday: \",yesterday)\n",
    "today     = np.datetime64('today', 'D')\n",
    "print(\"Today: \",today)\n",
    "tomorrow  = np.datetime64('today', 'D') + np.timedelta64(1, 'D')\n",
    "print(\"Tomorrow: \",tomorrow)"
   ]
  },
  {
   "cell_type": "markdown",
   "metadata": {},
   "source": [
    "# 7. Consider two random array A and B, check if they are equal"
   ]
  },
  {
   "cell_type": "code",
   "execution_count": 30,
   "metadata": {},
   "outputs": [
    {
     "name": "stdout",
     "output_type": "stream",
     "text": [
      "True\n"
     ]
    }
   ],
   "source": [
    "an_array = np.array([[1,2],[3,4]])\n",
    "another_array = np.array([[1,2],[3,4]])\n",
    "\n",
    "comparison = an_array == another_array\n",
    "equal_arrays = comparison.all()\n",
    "\n",
    "print(equal_arrays)"
   ]
  },
  {
   "cell_type": "markdown",
   "metadata": {},
   "source": [
    "# 8.Create random vector of size 10 and replace the maximum value by 0 "
   ]
  },
  {
   "cell_type": "code",
   "execution_count": 37,
   "metadata": {},
   "outputs": [
    {
     "name": "stdout",
     "output_type": "stream",
     "text": [
      "Original array:\n",
      "[0.02951612 0.74435358 0.97838008 0.1010738  0.6918499  0.64013751\n",
      " 0.91916103 0.53235925 0.88797452 0.4653536 ]\n",
      "Maximum value replaced by 0:\n",
      "[0.02951612 0.74435358 0.         0.1010738  0.6918499  0.64013751\n",
      " 0.91916103 0.53235925 0.88797452 0.4653536 ]\n"
     ]
    }
   ],
   "source": [
    "import numpy as np\n",
    "x = np.random.random(10)\n",
    "print(\"Original array:\")\n",
    "print(x)\n",
    "x[x.argmax()] = 0\n",
    "print(\"Maximum value replaced by 0:\")\n",
    "print(x)"
   ]
  },
  {
   "cell_type": "markdown",
   "metadata": {},
   "source": [
    "# 9. How to print all the values of an array?"
   ]
  },
  {
   "cell_type": "code",
   "execution_count": 38,
   "metadata": {},
   "outputs": [
    {
     "name": "stdout",
     "output_type": "stream",
     "text": [
      "[[0. 0. 0. 0.]\n",
      " [0. 0. 0. 0.]\n",
      " [0. 0. 0. 0.]\n",
      " [0. 0. 0. 0.]]\n"
     ]
    }
   ],
   "source": [
    "import numpy as np\n",
    "x = np.zeros((4, 4))\n",
    "print(x)"
   ]
  },
  {
   "cell_type": "markdown",
   "metadata": {},
   "source": [
    "# 10.Subtract the mean of each row of a matrix"
   ]
  },
  {
   "cell_type": "code",
   "execution_count": 3,
   "metadata": {},
   "outputs": [
    {
     "name": "stdout",
     "output_type": "stream",
     "text": [
      "original matrix\n",
      "[[0.34342349 0.8021819  0.03895613]\n",
      " [0.095016   0.64051555 0.66696408]\n",
      " [0.87857311 0.80551854 0.83238806]]\n",
      "subtract the eman of each row of given matrix\n",
      "[[-0.05143035  0.40732806 -0.35589771]\n",
      " [-0.37248254  0.17301701  0.19946554]\n",
      " [ 0.03974654 -0.03330803 -0.00643851]]\n"
     ]
    }
   ],
   "source": [
    "import numpy as np\n",
    "x = np.random.rand(3,3)\n",
    "print(\"original matrix\")\n",
    "print(x)\n",
    "print(\"subtract the eman of each row of given matrix\")\n",
    "y = x - x.mean(axis=1, keepdims=True)\n",
    "print(y)\n"
   ]
  },
  {
   "cell_type": "markdown",
   "metadata": {},
   "source": [
    "# 11.Consider a given vector, how to add 1 to each element indexed by a second vector (be careful with repeated indices)? "
   ]
  },
  {
   "cell_type": "code",
   "execution_count": 29,
   "metadata": {},
   "outputs": [
    {
     "name": "stdout",
     "output_type": "stream",
     "text": [
      "[[0.89559255 0.41344887 0.32260175]\n",
      " [0.3073408  0.51177255 0.21820932]\n",
      " [0.03678523 0.51583361 0.98607543]]\n",
      "[[0.07598403 0.17303586 0.59682837]\n",
      " [0.91955616 0.04508705 0.58217701]\n",
      " [0.50681876 0.92627706 0.79364661]]\n"
     ]
    },
    {
     "data": {
      "text/plain": [
       "array([[1.89559255, 1.41344887, 1.32260175],\n",
       "       [1.3073408 , 1.51177255, 1.21820932],\n",
       "       [1.03678523, 1.51583361, 1.98607543]])"
      ]
     },
     "execution_count": 29,
     "metadata": {},
     "output_type": "execute_result"
    }
   ],
   "source": [
    "import numpy as np\n",
    "a = np.random.rand(3,3)\n",
    "b = np.random.rand(3,3)\n",
    "print(a)\n",
    "print(b)\n",
    "x = a + 1\n",
    "x\n",
    " \n"
   ]
  },
  {
   "cell_type": "code",
   "execution_count": null,
   "metadata": {},
   "outputs": [],
   "source": []
  },
  {
   "cell_type": "markdown",
   "metadata": {},
   "source": [
    "# 12.How to get the diagonal of a dot product?"
   ]
  },
  {
   "cell_type": "code",
   "execution_count": 11,
   "metadata": {},
   "outputs": [
    {
     "name": "stdout",
     "output_type": "stream",
     "text": [
      "a\n",
      "[[1 2]\n",
      " [3 4]]\n",
      "b\n",
      "[[11 12]\n",
      " [13 14]]\n",
      "Diagonal of a\n",
      "[1 4]\n",
      "Diagonal of b\n",
      "[1 4]\n"
     ]
    },
    {
     "data": {
      "text/plain": [
       "17"
      ]
     },
     "execution_count": 11,
     "metadata": {},
     "output_type": "execute_result"
    }
   ],
   "source": [
    "a = np.array([[1,2],[3,4]]) \n",
    "b = np.array([[11,12],[13,14]])\n",
    "print(\"a\")\n",
    "print(a)\n",
    "print(\"b\")\n",
    "print(b)\n",
    "print(\"Diagonal of a\")\n",
    "a1 = a.diagonal()\n",
    "print(a1)\n",
    "print(\"Diagonal of b\")\n",
    "b1 = a.diagonal()\n",
    "print(b1)\n",
    "z = np.dot(a1,b1)\n",
    "z"
   ]
  },
  {
   "cell_type": "markdown",
   "metadata": {},
   "source": [
    "# 13.How to find the most frequent value in an array?"
   ]
  },
  {
   "cell_type": "code",
   "execution_count": 20,
   "metadata": {},
   "outputs": [
    {
     "name": "stdout",
     "output_type": "stream",
     "text": [
      "ModeResult(mode=array([[1, 3, 2, 2, 1, 1]]), count=array([[1, 2, 2, 2, 1, 2]]))\n"
     ]
    }
   ],
   "source": [
    "import numpy as np\n",
    "from scipy import stats\n",
    "\n",
    "a = np.array([[1, 3, 4, 2, 2, 7],\n",
    "              [5, 2, 2, 1, 4, 1],\n",
    "              [3, 3, 2, 2, 1, 1]])\n",
    "\n",
    "m = stats.mode(a)\n",
    "print(m)\n"
   ]
  },
  {
   "cell_type": "markdown",
   "metadata": {},
   "source": [
    "# 14.How to get the n largest values of an array"
   ]
  },
  {
   "cell_type": "code",
   "execution_count": 23,
   "metadata": {},
   "outputs": [
    {
     "name": "stdout",
     "output_type": "stream",
     "text": [
      "original \n",
      "[[0.03178673 0.39954133 0.42830305]\n",
      " [0.43212613 0.84819327 0.76833458]\n",
      " [0.41777128 0.87504018 0.14465568]]\n",
      "The largest value is\n",
      "0.8750401762779985\n"
     ]
    }
   ],
   "source": [
    "import numpy as np\n",
    "a = np.random.rand(3,3)\n",
    "print(\"original \")\n",
    "print(a)\n",
    "y = a.max()\n",
    "print(\"The largest value is:\")\n",
    "print(y)"
   ]
  },
  {
   "cell_type": "markdown",
   "metadata": {},
   "source": [
    "# 15.How to create a record array from a regular array?"
   ]
  },
  {
   "cell_type": "code",
   "execution_count": 24,
   "metadata": {},
   "outputs": [
    {
     "name": "stdout",
     "output_type": "stream",
     "text": [
      "(1, 'Red', 12.2)\n",
      "(2, 'Green', 15.)\n",
      "(3, 'White', 20.)\n"
     ]
    }
   ],
   "source": [
    "import numpy as np\n",
    "a1=np.array([1,2,3,4])\n",
    "a2=np.array(['Red','Green','White','Orange'])\n",
    "a3=np.array([12.20,15,20,40])\n",
    "result= np.core.records.fromarrays([a1, a2, a3],names='a,b,c')\n",
    "print(result[0])\n",
    "print(result[1])\n",
    "print(result[2])"
   ]
  },
  {
   "cell_type": "code",
   "execution_count": null,
   "metadata": {},
   "outputs": [],
   "source": []
  }
 ],
 "metadata": {
  "kernelspec": {
   "display_name": "Python 3",
   "language": "python",
   "name": "python3"
  },
  "language_info": {
   "codemirror_mode": {
    "name": "ipython",
    "version": 3
   },
   "file_extension": ".py",
   "mimetype": "text/x-python",
   "name": "python",
   "nbconvert_exporter": "python",
   "pygments_lexer": "ipython3",
   "version": "3.7.6"
  }
 },
 "nbformat": 4,
 "nbformat_minor": 2
}
