{
 "cells": [
  {
   "cell_type": "markdown",
   "metadata": {},
   "source": [
    "Assignment number 7 :Markdown cell in jupyter and list the steps discussed in the session by Dr. Darshan Ingle sir to create Github profile and upload Githubs Assignment link.\n",
    "Answer:\n",
    "Step 1:\n",
    "Go to github----> make Github account(simple like gmail)\n",
    "\n",
    "Step 2:\n",
    "Click on 'NEW'----> NAME repository name - 'LetsUpgrade AI-ML' ----> Description: Assignments\n",
    "\n",
    "Step 3:\n",
    "Go to create Repository and your folder is visible\n",
    "\n",
    "Step 4:\n",
    "Goto 'upload on existing files'------> upload files or use drag and drop option ---->Click  commit changes \n",
    "\n",
    "Step 5:\n",
    "Up above copy the link and paste it to assignment sheet \n",
    "\n",
    "Thank you\n"
   ]
  }
 ],
 "metadata": {
  "kernelspec": {
   "display_name": "Python 3",
   "language": "python",
   "name": "python3"
  },
  "language_info": {
   "codemirror_mode": {
    "name": "ipython",
    "version": 3
   },
   "file_extension": ".py",
   "mimetype": "text/x-python",
   "name": "python",
   "nbconvert_exporter": "python",
   "pygments_lexer": "ipython3",
   "version": "3.7.6"
  }
 },
 "nbformat": 4,
 "nbformat_minor": 4
}
